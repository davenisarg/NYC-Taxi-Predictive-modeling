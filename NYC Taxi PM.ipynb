{
 "cells": [
  {
   "cell_type": "markdown",
   "metadata": {
    "collapsed": true
   },
   "source": [
    "# Data Science Challenge \"Trips\"\n",
    "### Author: Nisarg Dave\n",
    "### Dev OS: Ubuntu Linux 16.04 LTS & macOS 10.13\n",
    "### Tools: Jupyter Notebook (Anaconda Distribution)\n",
    "### Language: Python 3.6"
   ]
  },
  {
   "cell_type": "markdown",
   "metadata": {},
   "source": [
    "##  Step 1: Problem Defination\n",
    "\n",
    "#### Question 1\n",
    "\n",
    "-         Programmatically download and load into your favorite analytical tool the trip data for September 2015.\n",
    "-         Report how many rows and columns of data you have loaded.\n",
    "\n",
    "#### Question 2\n",
    "\n",
    "-         Plot a histogram of the number of the trip distance (\"Trip Distance\").\n",
    "\n",
    "-         Report any structure you find and any hypotheses you have about that structure.\n",
    "\n",
    "#### Question 3\n",
    "\n",
    "-         Report mean and median trip distance grouped by hour of day.\n",
    "\n",
    "-         We'd like to get a rough sense of identifying trips that originate or terminate at one of the NYC area airports. Can you provide a count of how many transactions fit this criteria, the average fair, and any other interesting characteristics of these trips.\n",
    "\n",
    "#### Question 4\n",
    "\n",
    "-         Build a derived variable for tip as a percentage of the total fare.\n",
    " \n",
    "-         Build a predictive model for tip as a percentage of the total fare. Use as much of the data as you like (or all of it). We will validate a sample.\n",
    "\n",
    "#### Question 5\n",
    "\n",
    "Choose only one of these options to answer for Question 5. There is no preference as to which one you choose. Please select the question that you feel best suits your particular skills and/or expertise. If you answer more than one, only the first will be scored.\n",
    "\n",
    "####         Option A: Distributions\n",
    "\n",
    "-    Build a derived variable representing the average speed over the course of a trip.\n",
    "\n",
    "-    Can you perform a test to determine if the average trip speeds are materially the same in all weeks of September? If you decide they are not the same, can you form a hypothesis regarding why they differ?\n",
    "\n",
    "-    Can you build up a hypothesis of average trip speed as a function of time of day?"
   ]
  },
  {
   "cell_type": "markdown",
   "metadata": {},
   "source": [
    "### Step 1.1: Understanding the Problem"
   ]
  },
  {
   "cell_type": "markdown",
   "metadata": {},
   "source": [
    "#### Firstof all, I'll perform the Data munging & I'll perform data exploration on the dataset. Understanding the dataset will help me in solving my problem easily. Data should be cleaned and it's real world dataset so I think I need to go step by step in data science project lifecycle.\n",
    "\n",
    "(Dataset is from September 2015 and It's all about Green Taxi data (Green taxis are taxis that are not allowed to pick up passengers inside of the densely populated areas of Manhattan.)  "
   ]
  },
  {
   "cell_type": "markdown",
   "metadata": {},
   "source": [
    "### Step 2: Data Munging or Wrangling"
   ]
  },
  {
   "cell_type": "markdown",
   "metadata": {},
   "source": [
    "### Answer of Question 1: Programmatically collect the data & show the number of rows and columns.\n",
    "#### Let's check whether dataset exists on local path, if it doesn't exist then let's download it from the given link."
   ]
  },
  {
   "cell_type": "code",
   "execution_count": 1,
   "metadata": {
    "collapsed": true
   },
   "outputs": [],
   "source": [
    "#let's do some important task to ignore warning.\n",
    "import warnings\n",
    "warnings.filterwarnings('ignore')"
   ]
  },
  {
   "cell_type": "code",
   "execution_count": 2,
   "metadata": {},
   "outputs": [
    {
     "name": "stdout",
     "output_type": "stream",
     "text": [
      "The number of Rows and Columns in the Dataset is displayed below\n",
      "Total Number of rows in Green Taxi data of September 2015: 1494926\n",
      "Total Number of columns in Green Taxi data of September 2015:  21\n"
     ]
    }
   ],
   "source": [
    "import pandas as pd #for loading data into dataframe\n",
    "import os #for checking the file on local system\n",
    "\n",
    "# is data on local disk?\n",
    "if os.path.exists('green tripdata.csv'): \n",
    "    greentrip_db = pd.read_csv('green tripdata.csv')\n",
    "else: \n",
    "    #not? then download it.\n",
    "    url = \"https://s3.amazonaws.com/nyc-tlc/trip+data/green_tripdata_2015-09.csv\"\n",
    "    greentrip_db = pd.read_csv(url)\n",
    "    #we need to specify which element is actual filename on path so we used split from / and retrieving the filename.\n",
    "    greentrip_db.to_csv(url.split('/')[-1])\n",
    "print(\"The number of Rows and Columns in the Dataset is displayed below\")\n",
    "#showing number of Rows\n",
    "print(\"Total Number of rows in Green Taxi data of September 2015:\", greentrip_db.shape[0])\n",
    "#showing number of columns\n",
    "print (\"Total Number of columns in Green Taxi data of September 2015: \", greentrip_db.shape[1])"
   ]
  },
  {
   "cell_type": "markdown",
   "metadata": {},
   "source": [
    "#### Getting Data\n",
    "-  I've downloaded the CSV file of data from (http://www.nyc.gov/html/tlc/html/about/trip_record_data.shtml)\n",
    "-  I've loaded the data from local CSV file using Pandas for Python."
   ]
  },
  {
   "cell_type": "markdown",
   "metadata": {},
   "source": [
    "## Let's play with data! It's fun to play with datasets :P\n",
    "### Part 2.1: Data Understanding\n",
    "#### Playing with data to understand it or understanding what it's all about?"
   ]
  },
  {
   "cell_type": "code",
   "execution_count": 3,
   "metadata": {},
   "outputs": [
    {
     "name": "stdout",
     "output_type": "stream",
     "text": [
      "Index(['VendorID', 'lpep_pickup_datetime', 'Lpep_dropoff_datetime',\n",
      "       'Store_and_fwd_flag', 'RateCodeID', 'Pickup_longitude',\n",
      "       'Pickup_latitude', 'Dropoff_longitude', 'Dropoff_latitude',\n",
      "       'Passenger_count', 'Trip_distance', 'Fare_amount', 'Extra', 'MTA_tax',\n",
      "       'Tip_amount', 'Tolls_amount', 'Ehail_fee', 'improvement_surcharge',\n",
      "       'Total_amount', 'Payment_type', 'Trip_type '],\n",
      "      dtype='object')\n"
     ]
    }
   ],
   "source": [
    "#displaying columns and rows to understand the attributes.\n",
    "print(greentrip_db.columns)"
   ]
  },
  {
   "cell_type": "markdown",
   "metadata": {},
   "source": [
    "#### Well, I could get to know about some features in my first skimming but i couldn't get all. The data dictionary of this data is available at official website. So I had a look into data dictonary and I understood all the features of data. Now I'm sharing what I initially understood out of the data.\n",
    "\n",
    "### Basic Description of Data & Exploration\n",
    " -  Data is from September 2015 for the Green Taxis \n",
    " -  Data contains 1494925 Rows in total\n",
    " -  Total number of features(columns) are 20.\n",
    "     -  Feature set includes,\n",
    "         1.  **VendorID**: 1= Creative Mobile Technologies, LLC   2= VeriFone Inc.\n",
    "         2.  **lpep_pickup_datetime**: date & time when meter started\n",
    "         3.  **Lpep_dropoff_datetime**: date & time when meter resetted.\n",
    "         4.  **Store_and_fwd_flg**: This flag indicates whether the trip record was held in vehicle memory before sending to the vendor, aka “store and forward,” because the vehicle did not have a connection to the server.\n",
    "         -  **RateCodeID**:\n",
    "         \n",
    "                1= Standard rate\n",
    "                2=JFK\n",
    "                3=Newark\n",
    "                4=Nassau or Westchester\n",
    "                5=Negotiated fare\n",
    "                6=Group ride\n",
    "                \n",
    "         -  **Pickup_longitude**: longitude at start of ride\n",
    "         -  **Pickup_latitude**: latitude at start of ride\n",
    "         -  **Dropoff_longitude**: longitude at end of ride\n",
    "         -  **Dropoff_latitude**: latitude at end of ride\n",
    "         -  **Passenger_count**: the total number of passenger in each ride.\n",
    "         -  **Fare_amount**: total fare calculated\n",
    "         -  **Extra**: extra charge (only the \\$ 0.50 and \\$ 1 rush hour and overnight charges.)\n",
    "         -  **MTA_tax**: \\$ 0.50 MTA tax that is automatically triggered based on the metered rate in use.\n",
    "         -  **Tip_amount**: tip given to driver.\n",
    "         -  **Tolls_amount**: tolls paid\n",
    "         -  **Ehail_fee**: \n",
    "         -  **Improvement_surcharge**: \\$ 0.30 improvement surcharge assessed on hailed trips at the flag drop.The improvement surcharge began being levied in 2015.\n",
    "         -  **Total_amount**: total charge of trip\n",
    "         -  **Payment_type**: A numeric code signifying how the passenger paid for the trip.\n",
    "                                \n",
    "                                1= Credit card\n",
    "                                2= Cash\n",
    "                                3= No charge\n",
    "                                4= Dispute\n",
    "                                5= Unknown\n",
    "                                6= Voided trip\n",
    "         -  **Trip_type**: A code indicating whether the trip was a street-hail or a dispatch that is automatically assigned based on the metered rate in use but can be altered by the driver.\n",
    "                       \n",
    "                                1= Street-hail\n",
    "                                2= Dispatch"
   ]
  },
  {
   "cell_type": "code",
   "execution_count": 4,
   "metadata": {
    "scrolled": true
   },
   "outputs": [
    {
     "data": {
      "text/html": [
       "<div>\n",
       "<style>\n",
       "    .dataframe thead tr:only-child th {\n",
       "        text-align: right;\n",
       "    }\n",
       "\n",
       "    .dataframe thead th {\n",
       "        text-align: left;\n",
       "    }\n",
       "\n",
       "    .dataframe tbody tr th {\n",
       "        vertical-align: top;\n",
       "    }\n",
       "</style>\n",
       "<table border=\"1\" class=\"dataframe\">\n",
       "  <thead>\n",
       "    <tr style=\"text-align: right;\">\n",
       "      <th></th>\n",
       "      <th>VendorID</th>\n",
       "      <th>lpep_pickup_datetime</th>\n",
       "      <th>Lpep_dropoff_datetime</th>\n",
       "      <th>Store_and_fwd_flag</th>\n",
       "      <th>RateCodeID</th>\n",
       "      <th>Pickup_longitude</th>\n",
       "      <th>Pickup_latitude</th>\n",
       "      <th>Dropoff_longitude</th>\n",
       "      <th>Dropoff_latitude</th>\n",
       "      <th>Passenger_count</th>\n",
       "      <th>...</th>\n",
       "      <th>Fare_amount</th>\n",
       "      <th>Extra</th>\n",
       "      <th>MTA_tax</th>\n",
       "      <th>Tip_amount</th>\n",
       "      <th>Tolls_amount</th>\n",
       "      <th>Ehail_fee</th>\n",
       "      <th>improvement_surcharge</th>\n",
       "      <th>Total_amount</th>\n",
       "      <th>Payment_type</th>\n",
       "      <th>Trip_type</th>\n",
       "    </tr>\n",
       "  </thead>\n",
       "  <tbody>\n",
       "    <tr>\n",
       "      <th>0</th>\n",
       "      <td>2</td>\n",
       "      <td>2015-09-01 00:02:34</td>\n",
       "      <td>2015-09-01 00:02:38</td>\n",
       "      <td>N</td>\n",
       "      <td>5</td>\n",
       "      <td>-73.979485</td>\n",
       "      <td>40.684956</td>\n",
       "      <td>-73.979431</td>\n",
       "      <td>40.685020</td>\n",
       "      <td>1</td>\n",
       "      <td>...</td>\n",
       "      <td>7.8</td>\n",
       "      <td>0.0</td>\n",
       "      <td>0.0</td>\n",
       "      <td>1.95</td>\n",
       "      <td>0.0</td>\n",
       "      <td>NaN</td>\n",
       "      <td>0.0</td>\n",
       "      <td>9.75</td>\n",
       "      <td>1</td>\n",
       "      <td>2.0</td>\n",
       "    </tr>\n",
       "    <tr>\n",
       "      <th>1</th>\n",
       "      <td>2</td>\n",
       "      <td>2015-09-01 00:04:20</td>\n",
       "      <td>2015-09-01 00:04:24</td>\n",
       "      <td>N</td>\n",
       "      <td>5</td>\n",
       "      <td>-74.010796</td>\n",
       "      <td>40.912216</td>\n",
       "      <td>-74.010780</td>\n",
       "      <td>40.912212</td>\n",
       "      <td>1</td>\n",
       "      <td>...</td>\n",
       "      <td>45.0</td>\n",
       "      <td>0.0</td>\n",
       "      <td>0.0</td>\n",
       "      <td>0.00</td>\n",
       "      <td>0.0</td>\n",
       "      <td>NaN</td>\n",
       "      <td>0.0</td>\n",
       "      <td>45.00</td>\n",
       "      <td>1</td>\n",
       "      <td>2.0</td>\n",
       "    </tr>\n",
       "    <tr>\n",
       "      <th>2</th>\n",
       "      <td>2</td>\n",
       "      <td>2015-09-01 00:01:50</td>\n",
       "      <td>2015-09-01 00:04:24</td>\n",
       "      <td>N</td>\n",
       "      <td>1</td>\n",
       "      <td>-73.921410</td>\n",
       "      <td>40.766708</td>\n",
       "      <td>-73.914413</td>\n",
       "      <td>40.764687</td>\n",
       "      <td>1</td>\n",
       "      <td>...</td>\n",
       "      <td>4.0</td>\n",
       "      <td>0.5</td>\n",
       "      <td>0.5</td>\n",
       "      <td>0.50</td>\n",
       "      <td>0.0</td>\n",
       "      <td>NaN</td>\n",
       "      <td>0.3</td>\n",
       "      <td>5.80</td>\n",
       "      <td>1</td>\n",
       "      <td>1.0</td>\n",
       "    </tr>\n",
       "    <tr>\n",
       "      <th>3</th>\n",
       "      <td>2</td>\n",
       "      <td>2015-09-01 00:02:36</td>\n",
       "      <td>2015-09-01 00:06:42</td>\n",
       "      <td>N</td>\n",
       "      <td>1</td>\n",
       "      <td>-73.921387</td>\n",
       "      <td>40.766678</td>\n",
       "      <td>-73.931427</td>\n",
       "      <td>40.771584</td>\n",
       "      <td>1</td>\n",
       "      <td>...</td>\n",
       "      <td>5.0</td>\n",
       "      <td>0.5</td>\n",
       "      <td>0.5</td>\n",
       "      <td>0.00</td>\n",
       "      <td>0.0</td>\n",
       "      <td>NaN</td>\n",
       "      <td>0.3</td>\n",
       "      <td>6.30</td>\n",
       "      <td>2</td>\n",
       "      <td>1.0</td>\n",
       "    </tr>\n",
       "    <tr>\n",
       "      <th>4</th>\n",
       "      <td>2</td>\n",
       "      <td>2015-09-01 00:00:14</td>\n",
       "      <td>2015-09-01 00:04:20</td>\n",
       "      <td>N</td>\n",
       "      <td>1</td>\n",
       "      <td>-73.955482</td>\n",
       "      <td>40.714046</td>\n",
       "      <td>-73.944412</td>\n",
       "      <td>40.714729</td>\n",
       "      <td>1</td>\n",
       "      <td>...</td>\n",
       "      <td>5.0</td>\n",
       "      <td>0.5</td>\n",
       "      <td>0.5</td>\n",
       "      <td>0.00</td>\n",
       "      <td>0.0</td>\n",
       "      <td>NaN</td>\n",
       "      <td>0.3</td>\n",
       "      <td>6.30</td>\n",
       "      <td>2</td>\n",
       "      <td>1.0</td>\n",
       "    </tr>\n",
       "  </tbody>\n",
       "</table>\n",
       "<p>5 rows × 21 columns</p>\n",
       "</div>"
      ],
      "text/plain": [
       "   VendorID lpep_pickup_datetime Lpep_dropoff_datetime Store_and_fwd_flag  \\\n",
       "0         2  2015-09-01 00:02:34   2015-09-01 00:02:38                  N   \n",
       "1         2  2015-09-01 00:04:20   2015-09-01 00:04:24                  N   \n",
       "2         2  2015-09-01 00:01:50   2015-09-01 00:04:24                  N   \n",
       "3         2  2015-09-01 00:02:36   2015-09-01 00:06:42                  N   \n",
       "4         2  2015-09-01 00:00:14   2015-09-01 00:04:20                  N   \n",
       "\n",
       "   RateCodeID  Pickup_longitude  Pickup_latitude  Dropoff_longitude  \\\n",
       "0           5        -73.979485        40.684956         -73.979431   \n",
       "1           5        -74.010796        40.912216         -74.010780   \n",
       "2           1        -73.921410        40.766708         -73.914413   \n",
       "3           1        -73.921387        40.766678         -73.931427   \n",
       "4           1        -73.955482        40.714046         -73.944412   \n",
       "\n",
       "   Dropoff_latitude  Passenger_count     ...      Fare_amount  Extra  MTA_tax  \\\n",
       "0         40.685020                1     ...              7.8    0.0      0.0   \n",
       "1         40.912212                1     ...             45.0    0.0      0.0   \n",
       "2         40.764687                1     ...              4.0    0.5      0.5   \n",
       "3         40.771584                1     ...              5.0    0.5      0.5   \n",
       "4         40.714729                1     ...              5.0    0.5      0.5   \n",
       "\n",
       "   Tip_amount  Tolls_amount  Ehail_fee  improvement_surcharge  Total_amount  \\\n",
       "0        1.95           0.0        NaN                    0.0          9.75   \n",
       "1        0.00           0.0        NaN                    0.0         45.00   \n",
       "2        0.50           0.0        NaN                    0.3          5.80   \n",
       "3        0.00           0.0        NaN                    0.3          6.30   \n",
       "4        0.00           0.0        NaN                    0.3          6.30   \n",
       "\n",
       "   Payment_type  Trip_type   \n",
       "0             1         2.0  \n",
       "1             1         2.0  \n",
       "2             1         1.0  \n",
       "3             2         1.0  \n",
       "4             2         1.0  \n",
       "\n",
       "[5 rows x 21 columns]"
      ]
     },
     "execution_count": 4,
     "metadata": {},
     "output_type": "execute_result"
    }
   ],
   "source": [
    "#exploring data in starting\n",
    "greentrip_db.head(5)"
   ]
  },
  {
   "cell_type": "code",
   "execution_count": 5,
   "metadata": {},
   "outputs": [
    {
     "data": {
      "text/html": [
       "<div>\n",
       "<style>\n",
       "    .dataframe thead tr:only-child th {\n",
       "        text-align: right;\n",
       "    }\n",
       "\n",
       "    .dataframe thead th {\n",
       "        text-align: left;\n",
       "    }\n",
       "\n",
       "    .dataframe tbody tr th {\n",
       "        vertical-align: top;\n",
       "    }\n",
       "</style>\n",
       "<table border=\"1\" class=\"dataframe\">\n",
       "  <thead>\n",
       "    <tr style=\"text-align: right;\">\n",
       "      <th></th>\n",
       "      <th>VendorID</th>\n",
       "      <th>lpep_pickup_datetime</th>\n",
       "      <th>Lpep_dropoff_datetime</th>\n",
       "      <th>Store_and_fwd_flag</th>\n",
       "      <th>RateCodeID</th>\n",
       "      <th>Pickup_longitude</th>\n",
       "      <th>Pickup_latitude</th>\n",
       "      <th>Dropoff_longitude</th>\n",
       "      <th>Dropoff_latitude</th>\n",
       "      <th>Passenger_count</th>\n",
       "      <th>...</th>\n",
       "      <th>Fare_amount</th>\n",
       "      <th>Extra</th>\n",
       "      <th>MTA_tax</th>\n",
       "      <th>Tip_amount</th>\n",
       "      <th>Tolls_amount</th>\n",
       "      <th>Ehail_fee</th>\n",
       "      <th>improvement_surcharge</th>\n",
       "      <th>Total_amount</th>\n",
       "      <th>Payment_type</th>\n",
       "      <th>Trip_type</th>\n",
       "    </tr>\n",
       "  </thead>\n",
       "  <tbody>\n",
       "    <tr>\n",
       "      <th>1494921</th>\n",
       "      <td>1</td>\n",
       "      <td>2015-09-30 23:00:01</td>\n",
       "      <td>2015-09-30 23:17:21</td>\n",
       "      <td>N</td>\n",
       "      <td>1</td>\n",
       "      <td>-73.925339</td>\n",
       "      <td>40.761776</td>\n",
       "      <td>-73.786606</td>\n",
       "      <td>40.770184</td>\n",
       "      <td>1</td>\n",
       "      <td>...</td>\n",
       "      <td>30.5</td>\n",
       "      <td>0.5</td>\n",
       "      <td>0.5</td>\n",
       "      <td>0.00</td>\n",
       "      <td>0.0</td>\n",
       "      <td>NaN</td>\n",
       "      <td>0.3</td>\n",
       "      <td>31.80</td>\n",
       "      <td>2</td>\n",
       "      <td>1.0</td>\n",
       "    </tr>\n",
       "    <tr>\n",
       "      <th>1494922</th>\n",
       "      <td>1</td>\n",
       "      <td>2015-09-30 23:00:05</td>\n",
       "      <td>2015-09-30 23:08:13</td>\n",
       "      <td>N</td>\n",
       "      <td>1</td>\n",
       "      <td>-73.974312</td>\n",
       "      <td>40.685802</td>\n",
       "      <td>-73.980591</td>\n",
       "      <td>40.664055</td>\n",
       "      <td>1</td>\n",
       "      <td>...</td>\n",
       "      <td>8.0</td>\n",
       "      <td>0.5</td>\n",
       "      <td>0.5</td>\n",
       "      <td>0.00</td>\n",
       "      <td>0.0</td>\n",
       "      <td>NaN</td>\n",
       "      <td>0.3</td>\n",
       "      <td>9.30</td>\n",
       "      <td>2</td>\n",
       "      <td>1.0</td>\n",
       "    </tr>\n",
       "    <tr>\n",
       "      <th>1494923</th>\n",
       "      <td>1</td>\n",
       "      <td>2015-09-30 23:00:30</td>\n",
       "      <td>2015-09-30 23:08:39</td>\n",
       "      <td>N</td>\n",
       "      <td>1</td>\n",
       "      <td>-73.996437</td>\n",
       "      <td>40.681416</td>\n",
       "      <td>-73.998283</td>\n",
       "      <td>40.662296</td>\n",
       "      <td>1</td>\n",
       "      <td>...</td>\n",
       "      <td>7.5</td>\n",
       "      <td>0.5</td>\n",
       "      <td>0.5</td>\n",
       "      <td>0.00</td>\n",
       "      <td>0.0</td>\n",
       "      <td>NaN</td>\n",
       "      <td>0.3</td>\n",
       "      <td>8.80</td>\n",
       "      <td>2</td>\n",
       "      <td>1.0</td>\n",
       "    </tr>\n",
       "    <tr>\n",
       "      <th>1494924</th>\n",
       "      <td>1</td>\n",
       "      <td>2015-09-30 23:00:10</td>\n",
       "      <td>2015-09-30 23:03:49</td>\n",
       "      <td>N</td>\n",
       "      <td>1</td>\n",
       "      <td>-73.953606</td>\n",
       "      <td>40.587482</td>\n",
       "      <td>-73.941071</td>\n",
       "      <td>40.590843</td>\n",
       "      <td>1</td>\n",
       "      <td>...</td>\n",
       "      <td>5.0</td>\n",
       "      <td>0.5</td>\n",
       "      <td>0.5</td>\n",
       "      <td>1.25</td>\n",
       "      <td>0.0</td>\n",
       "      <td>NaN</td>\n",
       "      <td>0.3</td>\n",
       "      <td>7.55</td>\n",
       "      <td>1</td>\n",
       "      <td>1.0</td>\n",
       "    </tr>\n",
       "    <tr>\n",
       "      <th>1494925</th>\n",
       "      <td>1</td>\n",
       "      <td>2015-09-30 23:00:11</td>\n",
       "      <td>2015-09-30 23:05:36</td>\n",
       "      <td>N</td>\n",
       "      <td>1</td>\n",
       "      <td>-73.966110</td>\n",
       "      <td>40.681351</td>\n",
       "      <td>-73.955452</td>\n",
       "      <td>40.691002</td>\n",
       "      <td>1</td>\n",
       "      <td>...</td>\n",
       "      <td>6.5</td>\n",
       "      <td>0.5</td>\n",
       "      <td>0.5</td>\n",
       "      <td>1.00</td>\n",
       "      <td>0.0</td>\n",
       "      <td>NaN</td>\n",
       "      <td>0.3</td>\n",
       "      <td>8.80</td>\n",
       "      <td>1</td>\n",
       "      <td>1.0</td>\n",
       "    </tr>\n",
       "  </tbody>\n",
       "</table>\n",
       "<p>5 rows × 21 columns</p>\n",
       "</div>"
      ],
      "text/plain": [
       "         VendorID lpep_pickup_datetime Lpep_dropoff_datetime  \\\n",
       "1494921         1  2015-09-30 23:00:01   2015-09-30 23:17:21   \n",
       "1494922         1  2015-09-30 23:00:05   2015-09-30 23:08:13   \n",
       "1494923         1  2015-09-30 23:00:30   2015-09-30 23:08:39   \n",
       "1494924         1  2015-09-30 23:00:10   2015-09-30 23:03:49   \n",
       "1494925         1  2015-09-30 23:00:11   2015-09-30 23:05:36   \n",
       "\n",
       "        Store_and_fwd_flag  RateCodeID  Pickup_longitude  Pickup_latitude  \\\n",
       "1494921                  N           1        -73.925339        40.761776   \n",
       "1494922                  N           1        -73.974312        40.685802   \n",
       "1494923                  N           1        -73.996437        40.681416   \n",
       "1494924                  N           1        -73.953606        40.587482   \n",
       "1494925                  N           1        -73.966110        40.681351   \n",
       "\n",
       "         Dropoff_longitude  Dropoff_latitude  Passenger_count     ...      \\\n",
       "1494921         -73.786606         40.770184                1     ...       \n",
       "1494922         -73.980591         40.664055                1     ...       \n",
       "1494923         -73.998283         40.662296                1     ...       \n",
       "1494924         -73.941071         40.590843                1     ...       \n",
       "1494925         -73.955452         40.691002                1     ...       \n",
       "\n",
       "         Fare_amount  Extra  MTA_tax  Tip_amount  Tolls_amount  Ehail_fee  \\\n",
       "1494921         30.5    0.5      0.5        0.00           0.0        NaN   \n",
       "1494922          8.0    0.5      0.5        0.00           0.0        NaN   \n",
       "1494923          7.5    0.5      0.5        0.00           0.0        NaN   \n",
       "1494924          5.0    0.5      0.5        1.25           0.0        NaN   \n",
       "1494925          6.5    0.5      0.5        1.00           0.0        NaN   \n",
       "\n",
       "         improvement_surcharge  Total_amount  Payment_type  Trip_type   \n",
       "1494921                    0.3         31.80             2         1.0  \n",
       "1494922                    0.3          9.30             2         1.0  \n",
       "1494923                    0.3          8.80             2         1.0  \n",
       "1494924                    0.3          7.55             1         1.0  \n",
       "1494925                    0.3          8.80             1         1.0  \n",
       "\n",
       "[5 rows x 21 columns]"
      ]
     },
     "execution_count": 5,
     "metadata": {},
     "output_type": "execute_result"
    }
   ],
   "source": [
    "#exploring data in ending\n",
    "greentrip_db.tail(5)"
   ]
  },
  {
   "cell_type": "code",
   "execution_count": 6,
   "metadata": {},
   "outputs": [
    {
     "data": {
      "text/html": [
       "<div>\n",
       "<style>\n",
       "    .dataframe thead tr:only-child th {\n",
       "        text-align: right;\n",
       "    }\n",
       "\n",
       "    .dataframe thead th {\n",
       "        text-align: left;\n",
       "    }\n",
       "\n",
       "    .dataframe tbody tr th {\n",
       "        vertical-align: top;\n",
       "    }\n",
       "</style>\n",
       "<table border=\"1\" class=\"dataframe\">\n",
       "  <thead>\n",
       "    <tr style=\"text-align: right;\">\n",
       "      <th></th>\n",
       "      <th>VendorID</th>\n",
       "      <th>RateCodeID</th>\n",
       "      <th>Pickup_longitude</th>\n",
       "      <th>Pickup_latitude</th>\n",
       "      <th>Dropoff_longitude</th>\n",
       "      <th>Dropoff_latitude</th>\n",
       "      <th>Passenger_count</th>\n",
       "      <th>Trip_distance</th>\n",
       "      <th>Fare_amount</th>\n",
       "      <th>Extra</th>\n",
       "      <th>MTA_tax</th>\n",
       "      <th>Tip_amount</th>\n",
       "      <th>Tolls_amount</th>\n",
       "      <th>Ehail_fee</th>\n",
       "      <th>improvement_surcharge</th>\n",
       "      <th>Total_amount</th>\n",
       "      <th>Payment_type</th>\n",
       "      <th>Trip_type</th>\n",
       "    </tr>\n",
       "  </thead>\n",
       "  <tbody>\n",
       "    <tr>\n",
       "      <th>count</th>\n",
       "      <td>1.494926e+06</td>\n",
       "      <td>1.494926e+06</td>\n",
       "      <td>1.494926e+06</td>\n",
       "      <td>1.494926e+06</td>\n",
       "      <td>1.494926e+06</td>\n",
       "      <td>1.494926e+06</td>\n",
       "      <td>1.494926e+06</td>\n",
       "      <td>1.494926e+06</td>\n",
       "      <td>1.494926e+06</td>\n",
       "      <td>1.494926e+06</td>\n",
       "      <td>1.494926e+06</td>\n",
       "      <td>1.494926e+06</td>\n",
       "      <td>1.494926e+06</td>\n",
       "      <td>0.0</td>\n",
       "      <td>1.494926e+06</td>\n",
       "      <td>1.494926e+06</td>\n",
       "      <td>1.494926e+06</td>\n",
       "      <td>1.494922e+06</td>\n",
       "    </tr>\n",
       "    <tr>\n",
       "      <th>mean</th>\n",
       "      <td>1.782045e+00</td>\n",
       "      <td>1.097653e+00</td>\n",
       "      <td>-7.383084e+01</td>\n",
       "      <td>4.069114e+01</td>\n",
       "      <td>-7.383728e+01</td>\n",
       "      <td>4.069291e+01</td>\n",
       "      <td>1.370598e+00</td>\n",
       "      <td>2.968141e+00</td>\n",
       "      <td>1.254320e+01</td>\n",
       "      <td>3.512800e-01</td>\n",
       "      <td>4.866408e-01</td>\n",
       "      <td>1.235727e+00</td>\n",
       "      <td>1.231047e-01</td>\n",
       "      <td>NaN</td>\n",
       "      <td>2.920991e-01</td>\n",
       "      <td>1.503215e+01</td>\n",
       "      <td>1.540559e+00</td>\n",
       "      <td>1.022353e+00</td>\n",
       "    </tr>\n",
       "    <tr>\n",
       "      <th>std</th>\n",
       "      <td>4.128570e-01</td>\n",
       "      <td>6.359437e-01</td>\n",
       "      <td>2.776082e+00</td>\n",
       "      <td>1.530882e+00</td>\n",
       "      <td>2.677911e+00</td>\n",
       "      <td>1.476698e+00</td>\n",
       "      <td>1.039426e+00</td>\n",
       "      <td>3.076621e+00</td>\n",
       "      <td>1.008278e+01</td>\n",
       "      <td>3.663096e-01</td>\n",
       "      <td>8.504473e-02</td>\n",
       "      <td>2.431476e+00</td>\n",
       "      <td>8.910137e-01</td>\n",
       "      <td>NaN</td>\n",
       "      <td>5.074009e-02</td>\n",
       "      <td>1.155316e+01</td>\n",
       "      <td>5.232935e-01</td>\n",
       "      <td>1.478288e-01</td>\n",
       "    </tr>\n",
       "    <tr>\n",
       "      <th>min</th>\n",
       "      <td>1.000000e+00</td>\n",
       "      <td>1.000000e+00</td>\n",
       "      <td>-8.331908e+01</td>\n",
       "      <td>0.000000e+00</td>\n",
       "      <td>-8.342784e+01</td>\n",
       "      <td>0.000000e+00</td>\n",
       "      <td>0.000000e+00</td>\n",
       "      <td>0.000000e+00</td>\n",
       "      <td>-4.750000e+02</td>\n",
       "      <td>-1.000000e+00</td>\n",
       "      <td>-5.000000e-01</td>\n",
       "      <td>-5.000000e+01</td>\n",
       "      <td>-1.529000e+01</td>\n",
       "      <td>NaN</td>\n",
       "      <td>-3.000000e-01</td>\n",
       "      <td>-4.750000e+02</td>\n",
       "      <td>1.000000e+00</td>\n",
       "      <td>1.000000e+00</td>\n",
       "    </tr>\n",
       "    <tr>\n",
       "      <th>25%</th>\n",
       "      <td>2.000000e+00</td>\n",
       "      <td>1.000000e+00</td>\n",
       "      <td>-7.395961e+01</td>\n",
       "      <td>4.069895e+01</td>\n",
       "      <td>-7.396782e+01</td>\n",
       "      <td>4.069878e+01</td>\n",
       "      <td>1.000000e+00</td>\n",
       "      <td>1.100000e+00</td>\n",
       "      <td>6.500000e+00</td>\n",
       "      <td>0.000000e+00</td>\n",
       "      <td>5.000000e-01</td>\n",
       "      <td>0.000000e+00</td>\n",
       "      <td>0.000000e+00</td>\n",
       "      <td>NaN</td>\n",
       "      <td>3.000000e-01</td>\n",
       "      <td>8.160000e+00</td>\n",
       "      <td>1.000000e+00</td>\n",
       "      <td>1.000000e+00</td>\n",
       "    </tr>\n",
       "    <tr>\n",
       "      <th>50%</th>\n",
       "      <td>2.000000e+00</td>\n",
       "      <td>1.000000e+00</td>\n",
       "      <td>-7.394536e+01</td>\n",
       "      <td>4.074674e+01</td>\n",
       "      <td>-7.394504e+01</td>\n",
       "      <td>4.074728e+01</td>\n",
       "      <td>1.000000e+00</td>\n",
       "      <td>1.980000e+00</td>\n",
       "      <td>9.500000e+00</td>\n",
       "      <td>5.000000e-01</td>\n",
       "      <td>5.000000e-01</td>\n",
       "      <td>0.000000e+00</td>\n",
       "      <td>0.000000e+00</td>\n",
       "      <td>NaN</td>\n",
       "      <td>3.000000e-01</td>\n",
       "      <td>1.176000e+01</td>\n",
       "      <td>2.000000e+00</td>\n",
       "      <td>1.000000e+00</td>\n",
       "    </tr>\n",
       "    <tr>\n",
       "      <th>75%</th>\n",
       "      <td>2.000000e+00</td>\n",
       "      <td>1.000000e+00</td>\n",
       "      <td>-7.391748e+01</td>\n",
       "      <td>4.080255e+01</td>\n",
       "      <td>-7.391013e+01</td>\n",
       "      <td>4.079015e+01</td>\n",
       "      <td>1.000000e+00</td>\n",
       "      <td>3.740000e+00</td>\n",
       "      <td>1.550000e+01</td>\n",
       "      <td>5.000000e-01</td>\n",
       "      <td>5.000000e-01</td>\n",
       "      <td>2.000000e+00</td>\n",
       "      <td>0.000000e+00</td>\n",
       "      <td>NaN</td>\n",
       "      <td>3.000000e-01</td>\n",
       "      <td>1.830000e+01</td>\n",
       "      <td>2.000000e+00</td>\n",
       "      <td>1.000000e+00</td>\n",
       "    </tr>\n",
       "    <tr>\n",
       "      <th>max</th>\n",
       "      <td>2.000000e+00</td>\n",
       "      <td>9.900000e+01</td>\n",
       "      <td>0.000000e+00</td>\n",
       "      <td>4.317726e+01</td>\n",
       "      <td>0.000000e+00</td>\n",
       "      <td>4.279934e+01</td>\n",
       "      <td>9.000000e+00</td>\n",
       "      <td>6.031000e+02</td>\n",
       "      <td>5.805000e+02</td>\n",
       "      <td>1.200000e+01</td>\n",
       "      <td>5.000000e-01</td>\n",
       "      <td>3.000000e+02</td>\n",
       "      <td>9.575000e+01</td>\n",
       "      <td>NaN</td>\n",
       "      <td>3.000000e-01</td>\n",
       "      <td>5.813000e+02</td>\n",
       "      <td>5.000000e+00</td>\n",
       "      <td>2.000000e+00</td>\n",
       "    </tr>\n",
       "  </tbody>\n",
       "</table>\n",
       "</div>"
      ],
      "text/plain": [
       "           VendorID    RateCodeID  Pickup_longitude  Pickup_latitude  \\\n",
       "count  1.494926e+06  1.494926e+06      1.494926e+06     1.494926e+06   \n",
       "mean   1.782045e+00  1.097653e+00     -7.383084e+01     4.069114e+01   \n",
       "std    4.128570e-01  6.359437e-01      2.776082e+00     1.530882e+00   \n",
       "min    1.000000e+00  1.000000e+00     -8.331908e+01     0.000000e+00   \n",
       "25%    2.000000e+00  1.000000e+00     -7.395961e+01     4.069895e+01   \n",
       "50%    2.000000e+00  1.000000e+00     -7.394536e+01     4.074674e+01   \n",
       "75%    2.000000e+00  1.000000e+00     -7.391748e+01     4.080255e+01   \n",
       "max    2.000000e+00  9.900000e+01      0.000000e+00     4.317726e+01   \n",
       "\n",
       "       Dropoff_longitude  Dropoff_latitude  Passenger_count  Trip_distance  \\\n",
       "count       1.494926e+06      1.494926e+06     1.494926e+06   1.494926e+06   \n",
       "mean       -7.383728e+01      4.069291e+01     1.370598e+00   2.968141e+00   \n",
       "std         2.677911e+00      1.476698e+00     1.039426e+00   3.076621e+00   \n",
       "min        -8.342784e+01      0.000000e+00     0.000000e+00   0.000000e+00   \n",
       "25%        -7.396782e+01      4.069878e+01     1.000000e+00   1.100000e+00   \n",
       "50%        -7.394504e+01      4.074728e+01     1.000000e+00   1.980000e+00   \n",
       "75%        -7.391013e+01      4.079015e+01     1.000000e+00   3.740000e+00   \n",
       "max         0.000000e+00      4.279934e+01     9.000000e+00   6.031000e+02   \n",
       "\n",
       "        Fare_amount         Extra       MTA_tax    Tip_amount  Tolls_amount  \\\n",
       "count  1.494926e+06  1.494926e+06  1.494926e+06  1.494926e+06  1.494926e+06   \n",
       "mean   1.254320e+01  3.512800e-01  4.866408e-01  1.235727e+00  1.231047e-01   \n",
       "std    1.008278e+01  3.663096e-01  8.504473e-02  2.431476e+00  8.910137e-01   \n",
       "min   -4.750000e+02 -1.000000e+00 -5.000000e-01 -5.000000e+01 -1.529000e+01   \n",
       "25%    6.500000e+00  0.000000e+00  5.000000e-01  0.000000e+00  0.000000e+00   \n",
       "50%    9.500000e+00  5.000000e-01  5.000000e-01  0.000000e+00  0.000000e+00   \n",
       "75%    1.550000e+01  5.000000e-01  5.000000e-01  2.000000e+00  0.000000e+00   \n",
       "max    5.805000e+02  1.200000e+01  5.000000e-01  3.000000e+02  9.575000e+01   \n",
       "\n",
       "       Ehail_fee  improvement_surcharge  Total_amount  Payment_type  \\\n",
       "count        0.0           1.494926e+06  1.494926e+06  1.494926e+06   \n",
       "mean         NaN           2.920991e-01  1.503215e+01  1.540559e+00   \n",
       "std          NaN           5.074009e-02  1.155316e+01  5.232935e-01   \n",
       "min          NaN          -3.000000e-01 -4.750000e+02  1.000000e+00   \n",
       "25%          NaN           3.000000e-01  8.160000e+00  1.000000e+00   \n",
       "50%          NaN           3.000000e-01  1.176000e+01  2.000000e+00   \n",
       "75%          NaN           3.000000e-01  1.830000e+01  2.000000e+00   \n",
       "max          NaN           3.000000e-01  5.813000e+02  5.000000e+00   \n",
       "\n",
       "         Trip_type   \n",
       "count  1.494922e+06  \n",
       "mean   1.022353e+00  \n",
       "std    1.478288e-01  \n",
       "min    1.000000e+00  \n",
       "25%    1.000000e+00  \n",
       "50%    1.000000e+00  \n",
       "75%    1.000000e+00  \n",
       "max    2.000000e+00  "
      ]
     },
     "execution_count": 6,
     "metadata": {},
     "output_type": "execute_result"
    }
   ],
   "source": [
    "#basic stats of data (not so useful)\n",
    "greentrip_db.describe()"
   ]
  },
  {
   "cell_type": "markdown",
   "metadata": {},
   "source": [
    "###  Finding 1: Ehail_fee is totally useless column so we need to remove that during the data cleaning process."
   ]
  },
  {
   "cell_type": "code",
   "execution_count": 7,
   "metadata": {},
   "outputs": [
    {
     "data": {
      "text/plain": [
       "VendorID                   int64\n",
       "lpep_pickup_datetime      object\n",
       "Lpep_dropoff_datetime     object\n",
       "Store_and_fwd_flag        object\n",
       "RateCodeID                 int64\n",
       "Pickup_longitude         float64\n",
       "Pickup_latitude          float64\n",
       "Dropoff_longitude        float64\n",
       "Dropoff_latitude         float64\n",
       "Passenger_count            int64\n",
       "Trip_distance            float64\n",
       "Fare_amount              float64\n",
       "Extra                    float64\n",
       "MTA_tax                  float64\n",
       "Tip_amount               float64\n",
       "Tolls_amount             float64\n",
       "Ehail_fee                float64\n",
       "improvement_surcharge    float64\n",
       "Total_amount             float64\n",
       "Payment_type               int64\n",
       "Trip_type                float64\n",
       "dtype: object"
      ]
     },
     "execution_count": 7,
     "metadata": {},
     "output_type": "execute_result"
    }
   ],
   "source": [
    "#learning about the datatypes of data\n",
    "greentrip_db.dtypes"
   ]
  },
  {
   "cell_type": "markdown",
   "metadata": {},
   "source": [
    "### Finding 2: 3 features are in Object form so I need to encode them into numerical ones for performing operations. "
   ]
  },
  {
   "cell_type": "code",
   "execution_count": 8,
   "metadata": {},
   "outputs": [
    {
     "name": "stdout",
     "output_type": "stream",
     "text": [
      "Is feature 'VendorID' has missing/null values? - False \n",
      "Is feature 'lpep_pickup_datetime' has missing/null values? - False \n",
      "Is feature 'Lpep_dropoff_datetime' has missing/null values? - False \n",
      "Is feature 'RateCodeID' has missing/null values? - False \n",
      "Is feature 'Pickup_longitude' has missing/null values? - False \n",
      "Is feature 'Pickup_latitude' has missing/null values? - False \n",
      "Is feature 'Dropoff_longitude' has missing/null values? - False \n",
      "Is feature 'Dropoff_latitude' has missing/null values? - False \n",
      "Is feature 'Passenger_count' has missing/null values? - False \n",
      "Is feature 'Trip_distance' has missing/null values? - False \n",
      "Is feature 'Fare_amount' has missing/null values? - False \n",
      "Is feature 'Extra' has missing/null values? - False \n",
      "Is feature 'MTA_tax' has missing/null values? - False \n",
      "Is feature 'Tip_amount' has missing/null values? - False \n",
      "Is feature 'Tolls_amount' has missing/null values? - False \n",
      "Is feature 'improvement_surcharge' has missing/null values? - False \n",
      "Is feature 'Total_amount' has missing/null values? - False \n",
      "Is feature 'Payment_type' has missing/null values? - False \n",
      "Is feature 'Trip_type' has missing/null values? - True \n"
     ]
    }
   ],
   "source": [
    "print(\"Is feature 'VendorID' has missing/null values? - %s \" %greentrip_db['VendorID'].isnull().values.any())\n",
    "print(\"Is feature 'lpep_pickup_datetime' has missing/null values? - %s \" %greentrip_db['lpep_pickup_datetime'].isnull().values.any())\n",
    "print(\"Is feature 'Lpep_dropoff_datetime' has missing/null values? - %s \" %greentrip_db['Lpep_dropoff_datetime'].isnull().values.any())\n",
    "print(\"Is feature 'RateCodeID' has missing/null values? - %s \" %greentrip_db['RateCodeID'].isnull().values.any())\n",
    "print(\"Is feature 'Pickup_longitude' has missing/null values? - %s \" %greentrip_db['Pickup_longitude'].isnull().values.any())\n",
    "print(\"Is feature 'Pickup_latitude' has missing/null values? - %s \" %greentrip_db['Pickup_latitude'].isnull().values.any())\n",
    "print(\"Is feature 'Dropoff_longitude' has missing/null values? - %s \" %greentrip_db['Dropoff_longitude'].isnull().values.any())\n",
    "print(\"Is feature 'Dropoff_latitude' has missing/null values? - %s \" %greentrip_db['Dropoff_latitude'].isnull().values.any())\n",
    "print(\"Is feature 'Passenger_count' has missing/null values? - %s \" %greentrip_db['Passenger_count'].isnull().values.any())\n",
    "print(\"Is feature 'Trip_distance' has missing/null values? - %s \" %greentrip_db['Trip_distance'].isnull().values.any())\n",
    "print(\"Is feature 'Fare_amount' has missing/null values? - %s \" %greentrip_db['Fare_amount'].isnull().values.any())\n",
    "print(\"Is feature 'Extra' has missing/null values? - %s \" %greentrip_db['Extra'].isnull().values.any())\n",
    "print(\"Is feature 'MTA_tax' has missing/null values? - %s \" %greentrip_db['MTA_tax'].isnull().values.any())\n",
    "print(\"Is feature 'Tip_amount' has missing/null values? - %s \" %greentrip_db['Tip_amount'].isnull().values.any())\n",
    "print(\"Is feature 'Tolls_amount' has missing/null values? - %s \" %greentrip_db['Tolls_amount'].isnull().values.any())\n",
    "print(\"Is feature 'improvement_surcharge' has missing/null values? - %s \" %greentrip_db['improvement_surcharge'].isnull().values.any())\n",
    "print(\"Is feature 'Total_amount' has missing/null values? - %s \" %greentrip_db['Total_amount'].isnull().values.any())\n",
    "print(\"Is feature 'Payment_type' has missing/null values? - %s \" %greentrip_db['Payment_type'].isnull().values.any())\n",
    "print(\"Is feature 'Trip_type' has missing/null values? - %s \" %greentrip_db['Trip_type '].isnull().values.any())\n",
    "\n",
    "#print(greentrip_db['Trip_type '])"
   ]
  },
  {
   "cell_type": "markdown",
   "metadata": {},
   "source": [
    "### Finding 3: After checking all the columns, only Trip_type has null/missing values so we need to impute the values.\n",
    "#### Let's check which is the best option for imputing."
   ]
  },
  {
   "cell_type": "code",
   "execution_count": 9,
   "metadata": {},
   "outputs": [
    {
     "name": "stdout",
     "output_type": "stream",
     "text": [
      "Most Occuring value for Trip_type feature\n"
     ]
    },
    {
     "data": {
      "text/plain": [
       "ModeResult(mode=array([ 1.]), count=array([1461506]))"
      ]
     },
     "execution_count": 9,
     "metadata": {},
     "output_type": "execute_result"
    }
   ],
   "source": [
    "#finding mode for judging which option should we impute\n",
    "from scipy.stats import mode\n",
    "print(\"Most Occuring value for Trip_type feature\")\n",
    "mode(greentrip_db['Trip_type '])"
   ]
  },
  {
   "cell_type": "markdown",
   "metadata": {},
   "source": [
    "#### Most occuring value for RateCodeID"
   ]
  },
  {
   "cell_type": "code",
   "execution_count": 10,
   "metadata": {},
   "outputs": [
    {
     "data": {
      "text/plain": [
       "ModeResult(mode=array([1]), count=array([1454464]))"
      ]
     },
     "execution_count": 10,
     "metadata": {},
     "output_type": "execute_result"
    }
   ],
   "source": [
    "mode(greentrip_db['RateCodeID'])"
   ]
  },
  {
   "cell_type": "markdown",
   "metadata": {},
   "source": [
    "#### Most occuring value for Extra field"
   ]
  },
  {
   "cell_type": "code",
   "execution_count": 11,
   "metadata": {},
   "outputs": [
    {
     "data": {
      "text/plain": [
       "ModeResult(mode=array([ 0.]), count=array([684524]))"
      ]
     },
     "execution_count": 11,
     "metadata": {},
     "output_type": "execute_result"
    }
   ],
   "source": [
    "mode(greentrip_db['Extra'])"
   ]
  },
  {
   "cell_type": "markdown",
   "metadata": {},
   "source": [
    "#### So Option 1 for Trip_type occurs the most.mode(greentrip_db['Trip_type '])"
   ]
  },
  {
   "cell_type": "markdown",
   "metadata": {},
   "source": [
    "### Finding 3: Trip_type has null or missing values so we need to impute values"
   ]
  },
  {
   "cell_type": "code",
   "execution_count": 12,
   "metadata": {},
   "outputs": [
    {
     "name": "stdout",
     "output_type": "stream",
     "text": [
      "Total number of Rate code ID with bogus values (unknown) are 33943 \n"
     ]
    }
   ],
   "source": [
    "#filtering bogus data\n",
    "RateCodeID_filter = greentrip_db[greentrip_db['RateCodeID'] == 5]\n",
    "print(\"Total number of Rate code ID with bogus values (unknown) are %d \" %RateCodeID_filter.shape[0])"
   ]
  },
  {
   "cell_type": "markdown",
   "metadata": {},
   "source": [
    "#### Finding 4: we need to replace this 'Unknown' or invalid data for RateCodeID and Extra"
   ]
  },
  {
   "cell_type": "markdown",
   "metadata": {},
   "source": [
    "## Let's Create fix for our 4 findings using Data Cleaning!\n",
    "## Part 3: Data Cleaning\n",
    "#### Let's clean our whole data and make it more qualititive for better predictive analytics."
   ]
  },
  {
   "cell_type": "markdown",
   "metadata": {},
   "source": [
    "#### Dropping the Ehail_fee column"
   ]
  },
  {
   "cell_type": "code",
   "execution_count": 13,
   "metadata": {
    "collapsed": true
   },
   "outputs": [],
   "source": [
    "if 'Ehail_fee' in greentrip_db.columns:\n",
    "        greentrip_db.drop('Ehail_fee',axis=1,inplace=True)"
   ]
  },
  {
   "cell_type": "markdown",
   "metadata": {},
   "source": [
    "#### Replacing 'Trip_type' feature's NaN values using the mode (most occurring value) 1."
   ]
  },
  {
   "cell_type": "code",
   "execution_count": 14,
   "metadata": {
    "collapsed": true
   },
   "outputs": [],
   "source": [
    "import numpy as np\n",
    "\n",
    "greentrip_db['Trip_type '] = greentrip_db['Trip_type '].replace(np.NaN,1)"
   ]
  },
  {
   "cell_type": "markdown",
   "metadata": {},
   "source": [
    "#### Making negative value to be replaced by their absolute\n",
    "#### Certain features should not contain negative values"
   ]
  },
  {
   "cell_type": "code",
   "execution_count": 15,
   "metadata": {
    "collapsed": true
   },
   "outputs": [],
   "source": [
    "#getting rid of negatives\n",
    "greentrip_db.Total_amount = greentrip_db.Total_amount.abs()\n",
    "greentrip_db.Fare_amount = greentrip_db.Fare_amount.abs()\n",
    "greentrip_db.improvement_surcharge = greentrip_db.improvement_surcharge.abs()\n",
    "greentrip_db.Tip_amount = greentrip_db.Tip_amount.abs()\n",
    "greentrip_db.Tolls_amount = greentrip_db.Tolls_amount.abs()\n",
    "greentrip_db.MTA_tax = greentrip_db.MTA_tax.abs()"
   ]
  },
  {
   "cell_type": "markdown",
   "metadata": {},
   "source": [
    "#### Replacing Bogus values in RateCodeID with the most frequent one"
   ]
  },
  {
   "cell_type": "code",
   "execution_count": 16,
   "metadata": {
    "collapsed": true
   },
   "outputs": [],
   "source": [
    "indices_oi = greentrip_db[~((greentrip_db.RateCodeID>=1) & (greentrip_db.RateCodeID<=6))].index\n",
    "greentrip_db.loc[indices_oi, 'RateCodeID'] = 1"
   ]
  },
  {
   "cell_type": "markdown",
   "metadata": {},
   "source": [
    "####  Replacing extra values using most frequent '0' "
   ]
  },
  {
   "cell_type": "code",
   "execution_count": 17,
   "metadata": {
    "collapsed": true
   },
   "outputs": [],
   "source": [
    "indices_oi = greentrip_db[~((greentrip_db.Extra==0) | (greentrip_db.Extra==0.5) | (greentrip_db.Extra==1))].index\n",
    "greentrip_db.loc[indices_oi, 'Extra'] = 0"
   ]
  },
  {
   "cell_type": "markdown",
   "metadata": {},
   "source": [
    "#### Finding median of Total_amount for replacing the values below minimum charge.\n",
    "#### As per the website, the minimum charge on entry is 2.5 Dollars so replacing small values by median of 11.76 "
   ]
  },
  {
   "cell_type": "code",
   "execution_count": 18,
   "metadata": {},
   "outputs": [
    {
     "data": {
      "text/plain": [
       "11.76"
      ]
     },
     "execution_count": 18,
     "metadata": {},
     "output_type": "execute_result"
    }
   ],
   "source": [
    "import statistics\n",
    "\n",
    "#calculating median\n",
    "statistics.median(greentrip_db['Total_amount'])"
   ]
  },
  {
   "cell_type": "code",
   "execution_count": 19,
   "metadata": {
    "collapsed": true
   },
   "outputs": [],
   "source": [
    "#getting indices which is relevant to our condition\n",
    "indices_oi = greentrip_db[(greentrip_db.Total_amount<2.5)].index\n",
    "greentrip_db.loc[indices_oi,'Total_amount'] = 11.76"
   ]
  },
  {
   "cell_type": "markdown",
   "metadata": {},
   "source": [
    "#### Let's encode the categorical Objects to numerical ones"
   ]
  },
  {
   "cell_type": "code",
   "execution_count": 20,
   "metadata": {
    "collapsed": true
   },
   "outputs": [],
   "source": [
    "if greentrip_db.Store_and_fwd_flag.dtype.name != 'int64':\n",
    "    greentrip_db['Store_and_fwd_flag'] = (greentrip_db.Store_and_fwd_flag=='Y')*1"
   ]
  },
  {
   "cell_type": "markdown",
   "metadata": {},
   "source": [
    "#### Renaming the columns"
   ]
  },
  {
   "cell_type": "code",
   "execution_count": 21,
   "metadata": {
    "collapsed": true
   },
   "outputs": [],
   "source": [
    "greentrip_db.rename(columns={'lpep_pickup_datetime':'Pickup_date','Lpep_dropoff_datetime':'Dropoff_date'},inplace=True)"
   ]
  },
  {
   "cell_type": "markdown",
   "metadata": {},
   "source": [
    "#### Getting updated names of columns"
   ]
  },
  {
   "cell_type": "code",
   "execution_count": 22,
   "metadata": {},
   "outputs": [
    {
     "data": {
      "text/plain": [
       "Index(['VendorID', 'Pickup_date', 'Dropoff_date', 'Store_and_fwd_flag',\n",
       "       'RateCodeID', 'Pickup_longitude', 'Pickup_latitude',\n",
       "       'Dropoff_longitude', 'Dropoff_latitude', 'Passenger_count',\n",
       "       'Trip_distance', 'Fare_amount', 'Extra', 'MTA_tax', 'Tip_amount',\n",
       "       'Tolls_amount', 'improvement_surcharge', 'Total_amount', 'Payment_type',\n",
       "       'Trip_type '],\n",
       "      dtype='object')"
      ]
     },
     "execution_count": 22,
     "metadata": {},
     "output_type": "execute_result"
    }
   ],
   "source": [
    "greentrip_db.columns"
   ]
  },
  {
   "cell_type": "markdown",
   "metadata": {},
   "source": [
    "#### Converting format of date & time "
   ]
  },
  {
   "cell_type": "code",
   "execution_count": 23,
   "metadata": {
    "collapsed": true
   },
   "outputs": [],
   "source": [
    "import datetime as dt\n",
    "\n",
    "greentrip_db['Pickup_date'] = greentrip_db.Pickup_date.apply(lambda x:dt.datetime.strptime(x,\"%Y-%m-%d %H:%M:%S\"))\n",
    "greentrip_db['Dropoff_date'] = greentrip_db.Dropoff_date.apply(lambda x:dt.datetime.strptime(x,\"%Y-%m-%d %H:%M:%S\"))"
   ]
  },
  {
   "cell_type": "markdown",
   "metadata": {},
   "source": [
    "## Part 4: Feature Engineering"
   ]
  },
  {
   "cell_type": "markdown",
   "metadata": {},
   "source": [
    "### Extracting Important features,\n",
    "        -  Week\n",
    "        -  Day of Week\n",
    "        -  Day of month\n",
    "        -  Hour\n",
    "        -  Working Shift\n",
    "        -  Trip Duration\n",
    "        -  Speed\n",
    "        -  Total percentage of Tip"
   ]
  },
  {
   "cell_type": "markdown",
   "metadata": {},
   "source": [
    "#### Obtaining the Week, day of week, day of month and hour of day!\n",
    "Assumption: Taking first week of september as a reference"
   ]
  },
  {
   "cell_type": "code",
   "execution_count": 24,
   "metadata": {
    "collapsed": true
   },
   "outputs": [],
   "source": [
    "ref_week = dt.datetime(2015,9,1).isocalendar()[1]\n",
    "greentrip_db['Week'] = greentrip_db.Pickup_date.apply(lambda x:x.isocalendar()[1])-ref_week+1\n",
    "greentrip_db['Week_day']  = greentrip_db.Pickup_date.apply(lambda x:x.isocalendar()[2])\n",
    "greentrip_db['Month_day'] = greentrip_db.Pickup_date.apply(lambda x:x.day)\n",
    "greentrip_db['Hour'] = greentrip_db.Pickup_date.apply(lambda x:x.hour)"
   ]
  },
  {
   "cell_type": "markdown",
   "metadata": {},
   "source": [
    "#### let's devide the data into 3 time shifts 1. (7 am to 3 pm) 2. (3 pm to 11 pm) 3. (11 pm to 7 am)\n"
   ]
  },
  {
   "cell_type": "code",
   "execution_count": 25,
   "metadata": {
    "collapsed": true
   },
   "outputs": [],
   "source": [
    "greentrip_db['Shift_type'] = np.NAN\n",
    "greentrip_db.loc[greentrip_db[(greentrip_db.Hour>=7) & (greentrip_db.Hour<15)].index,'Shift_type'] = 1\n",
    "greentrip_db.loc[greentrip_db[(greentrip_db.Hour>=15) & (greentrip_db.Hour<23)].index,'Shift_type'] = 2\n",
    "greentrip_db.loc[greentrip_db[greentrip_db.Shift_type.isnull()].index,'Shift_type'] = 3"
   ]
  },
  {
   "cell_type": "markdown",
   "metadata": {},
   "source": [
    "#### Deriving the total time lapse of trip -> total duration"
   ]
  },
  {
   "cell_type": "code",
   "execution_count": 26,
   "metadata": {
    "collapsed": true
   },
   "outputs": [],
   "source": [
    "greentrip_db['Trip_duration'] = ((greentrip_db.Dropoff_date-greentrip_db.Pickup_date).apply(lambda x:x.total_seconds()/60.))"
   ]
  },
  {
   "cell_type": "markdown",
   "metadata": {},
   "source": [
    "#### Direction counting for North to South to each instance."
   ]
  },
  {
   "cell_type": "code",
   "execution_count": 27,
   "metadata": {
    "collapsed": true
   },
   "outputs": [],
   "source": [
    "greentrip_db['Direction_NS'] = (greentrip_db.Pickup_latitude>greentrip_db.Dropoff_latitude)*1+1\n",
    "indices = greentrip_db[(greentrip_db.Pickup_latitude == greentrip_db.Dropoff_latitude) & (greentrip_db.Pickup_latitude!=0)].index\n",
    "greentrip_db.loc[indices,'Direction_NS'] = 0"
   ]
  },
  {
   "cell_type": "markdown",
   "metadata": {},
   "source": [
    "#### Direction counting for East to West to each instance."
   ]
  },
  {
   "cell_type": "code",
   "execution_count": 28,
   "metadata": {
    "collapsed": true
   },
   "outputs": [],
   "source": [
    "greentrip_db['Direction_EW'] = (greentrip_db.Pickup_longitude>greentrip_db.Dropoff_longitude)*1+1\n",
    "indices = greentrip_db[(greentrip_db.Pickup_longitude == greentrip_db.Dropoff_longitude) & (greentrip_db.Pickup_longitude!=0)].index\n",
    "greentrip_db.loc[indices,'Direction_EW'] = 0"
   ]
  },
  {
   "cell_type": "markdown",
   "metadata": {},
   "source": [
    "#### Getting the Speed feature in mph"
   ]
  },
  {
   "cell_type": "code",
   "execution_count": 29,
   "metadata": {
    "collapsed": true
   },
   "outputs": [],
   "source": [
    "greentrip_db['Speed_mph'] = greentrip_db.Trip_distance/(greentrip_db.Trip_duration/60)"
   ]
  },
  {
   "cell_type": "markdown",
   "metadata": {},
   "source": [
    "#### Does it contais Null values?"
   ]
  },
  {
   "cell_type": "code",
   "execution_count": 30,
   "metadata": {},
   "outputs": [
    {
     "name": "stdout",
     "output_type": "stream",
     "text": [
      "Is feature 'Speed_mph' has missing/null values? - True \n"
     ]
    }
   ],
   "source": [
    "print(\"Is feature 'Speed_mph' has missing/null values? - %s \" %greentrip_db['Speed_mph'].isnull().values.any())"
   ]
  },
  {
   "cell_type": "markdown",
   "metadata": {},
   "source": [
    "#### Calculating Standard deviation & mean of speed for imputing NaN values"
   ]
  },
  {
   "cell_type": "code",
   "execution_count": 31,
   "metadata": {},
   "outputs": [
    {
     "name": "stdout",
     "output_type": "stream",
     "text": [
      "Mean of the speed is nan \n",
      "Standard Deviation of the speed is nan\n"
     ]
    }
   ],
   "source": [
    "print(\"Mean of the speed is %f \" %statistics.mean(greentrip_db['Speed_mph']))\n",
    "print(\"Standard Deviation of the speed is %f\" %np.std(greentrip_db['Speed_mph'],ddof=1))"
   ]
  },
  {
   "cell_type": "markdown",
   "metadata": {},
   "source": [
    "#### Replacing values in Speed_mph according to normal distribution"
   ]
  },
  {
   "cell_type": "code",
   "execution_count": 32,
   "metadata": {
    "collapsed": true
   },
   "outputs": [],
   "source": [
    "indices_oi = greentrip_db[(greentrip_db.Speed_mph.isnull()) | (greentrip_db.Speed_mph>240)].index\n",
    "greentrip_db.loc[indices_oi,'Speed_mph'] = np.abs(np.random.normal(loc=12.9,scale=7.0,size=len(indices_oi)))"
   ]
  },
  {
   "cell_type": "markdown",
   "metadata": {},
   "source": [
    "#### Now let's obtain the bounding points of upper manhattan using http://boundingbox.klokantech.com/ \n",
    "#### Map it into another list which contains bounds."
   ]
  },
  {
   "cell_type": "code",
   "execution_count": 33,
   "metadata": {
    "collapsed": true
   },
   "outputs": [],
   "source": [
    "#bounding box\n",
    "upper_manhattan_bounding_box = [(40.796937, -73.949503),(40.787945, -73.955822),(40.782772, -73.943575),\n",
    "              (40.794715, -73.929801),(40.811261, -73.934153),(40.835371, -73.934515),\n",
    "              (40.868910, -73.911145),(40.872719, -73.910765),(40.878252, -73.926350),\n",
    "              (40.850557, -73.947262),(40.836225, -73.949899),(40.806050, -73.971255)]"
   ]
  },
  {
   "cell_type": "markdown",
   "metadata": {},
   "source": [
    "#### Using Shapely library to find the geo coordinates which fits into the upper manhattan region of the dataset."
   ]
  },
  {
   "cell_type": "code",
   "execution_count": 34,
   "metadata": {
    "collapsed": true
   },
   "outputs": [],
   "source": [
    "from shapely.geometry import Point,Polygon,MultiPoint,MultiPolygon\n",
    "\n",
    "#mapping the point into box\n",
    "poi = Polygon(upper_manhattan_bounding_box)\n",
    "def is_within_bbox(loc,poi=poi):\n",
    "    return 1*(Point(loc).within(poi))"
   ]
  },
  {
   "cell_type": "markdown",
   "metadata": {},
   "source": [
    "#### Finding the Origin point of each and every trip using pickup logitude and latitude and applying the fn to check whether it's in mapped region or not?"
   ]
  },
  {
   "cell_type": "code",
   "execution_count": 35,
   "metadata": {},
   "outputs": [
    {
     "name": "stdout",
     "output_type": "stream",
     "text": [
      "Finding Origin of Trip\n"
     ]
    }
   ],
   "source": [
    "#checking origin\n",
    "print(\"Finding Origin of Trip\")\n",
    "greentrip_db['upper_manhattan'] = greentrip_db[['Pickup_latitude','Pickup_longitude']].apply(lambda r:is_within_bbox((r[0],r[1])),axis=1)"
   ]
  },
  {
   "cell_type": "markdown",
   "metadata": {},
   "source": [
    "#### Finding the tip percentage and with tip attribute"
   ]
  },
  {
   "cell_type": "code",
   "execution_count": 36,
   "metadata": {
    "collapsed": true
   },
   "outputs": [],
   "source": [
    "greentrip_db['Tip_percentage'] = 100*greentrip_db.Tip_amount/greentrip_db.Total_amount\n",
    "greentrip_db['With_tip'] = (greentrip_db.Tip_percentage>0)*1"
   ]
  },
  {
   "cell_type": "code",
   "execution_count": 37,
   "metadata": {},
   "outputs": [
    {
     "name": "stdout",
     "output_type": "stream",
     "text": [
      "Number of features before feature engineering 21\n",
      "Number of features after feature engineering 32\n"
     ]
    }
   ],
   "source": [
    "#total features\n",
    "print(\"Number of features before feature engineering\", 21)\n",
    "print (\"Number of features after feature engineering\", greentrip_db.shape[1])"
   ]
  },
  {
   "cell_type": "code",
   "execution_count": 38,
   "metadata": {},
   "outputs": [
    {
     "data": {
      "text/plain": [
       "Index(['VendorID', 'Pickup_date', 'Dropoff_date', 'Store_and_fwd_flag',\n",
       "       'RateCodeID', 'Pickup_longitude', 'Pickup_latitude',\n",
       "       'Dropoff_longitude', 'Dropoff_latitude', 'Passenger_count',\n",
       "       'Trip_distance', 'Fare_amount', 'Extra', 'MTA_tax', 'Tip_amount',\n",
       "       'Tolls_amount', 'improvement_surcharge', 'Total_amount', 'Payment_type',\n",
       "       'Trip_type ', 'Week', 'Week_day', 'Month_day', 'Hour', 'Shift_type',\n",
       "       'Trip_duration', 'Direction_NS', 'Direction_EW', 'Speed_mph',\n",
       "       'upper_manhattan', 'Tip_percentage', 'With_tip'],\n",
       "      dtype='object')"
      ]
     },
     "execution_count": 38,
     "metadata": {},
     "output_type": "execute_result"
    }
   ],
   "source": [
    "#checking updated columns\n",
    "greentrip_db.columns"
   ]
  },
  {
   "cell_type": "markdown",
   "metadata": {},
   "source": [
    "### Let's have a look on Data After feature engineering."
   ]
  },
  {
   "cell_type": "code",
   "execution_count": 39,
   "metadata": {},
   "outputs": [
    {
     "data": {
      "text/html": [
       "<div>\n",
       "<style>\n",
       "    .dataframe thead tr:only-child th {\n",
       "        text-align: right;\n",
       "    }\n",
       "\n",
       "    .dataframe thead th {\n",
       "        text-align: left;\n",
       "    }\n",
       "\n",
       "    .dataframe tbody tr th {\n",
       "        vertical-align: top;\n",
       "    }\n",
       "</style>\n",
       "<table border=\"1\" class=\"dataframe\">\n",
       "  <thead>\n",
       "    <tr style=\"text-align: right;\">\n",
       "      <th></th>\n",
       "      <th>VendorID</th>\n",
       "      <th>Pickup_date</th>\n",
       "      <th>Dropoff_date</th>\n",
       "      <th>Store_and_fwd_flag</th>\n",
       "      <th>RateCodeID</th>\n",
       "      <th>Pickup_longitude</th>\n",
       "      <th>Pickup_latitude</th>\n",
       "      <th>Dropoff_longitude</th>\n",
       "      <th>Dropoff_latitude</th>\n",
       "      <th>Passenger_count</th>\n",
       "      <th>...</th>\n",
       "      <th>Month_day</th>\n",
       "      <th>Hour</th>\n",
       "      <th>Shift_type</th>\n",
       "      <th>Trip_duration</th>\n",
       "      <th>Direction_NS</th>\n",
       "      <th>Direction_EW</th>\n",
       "      <th>Speed_mph</th>\n",
       "      <th>upper_manhattan</th>\n",
       "      <th>Tip_percentage</th>\n",
       "      <th>With_tip</th>\n",
       "    </tr>\n",
       "  </thead>\n",
       "  <tbody>\n",
       "    <tr>\n",
       "      <th>0</th>\n",
       "      <td>2</td>\n",
       "      <td>2015-09-01 00:02:34</td>\n",
       "      <td>2015-09-01 00:02:38</td>\n",
       "      <td>0</td>\n",
       "      <td>5</td>\n",
       "      <td>-73.979485</td>\n",
       "      <td>40.684956</td>\n",
       "      <td>-73.979431</td>\n",
       "      <td>40.685020</td>\n",
       "      <td>1</td>\n",
       "      <td>...</td>\n",
       "      <td>1</td>\n",
       "      <td>0</td>\n",
       "      <td>3.0</td>\n",
       "      <td>0.066667</td>\n",
       "      <td>1</td>\n",
       "      <td>1</td>\n",
       "      <td>0.000000</td>\n",
       "      <td>0</td>\n",
       "      <td>20.00000</td>\n",
       "      <td>1</td>\n",
       "    </tr>\n",
       "    <tr>\n",
       "      <th>1</th>\n",
       "      <td>2</td>\n",
       "      <td>2015-09-01 00:04:20</td>\n",
       "      <td>2015-09-01 00:04:24</td>\n",
       "      <td>0</td>\n",
       "      <td>5</td>\n",
       "      <td>-74.010796</td>\n",
       "      <td>40.912216</td>\n",
       "      <td>-74.010780</td>\n",
       "      <td>40.912212</td>\n",
       "      <td>1</td>\n",
       "      <td>...</td>\n",
       "      <td>1</td>\n",
       "      <td>0</td>\n",
       "      <td>3.0</td>\n",
       "      <td>0.066667</td>\n",
       "      <td>2</td>\n",
       "      <td>1</td>\n",
       "      <td>0.000000</td>\n",
       "      <td>0</td>\n",
       "      <td>0.00000</td>\n",
       "      <td>0</td>\n",
       "    </tr>\n",
       "    <tr>\n",
       "      <th>2</th>\n",
       "      <td>2</td>\n",
       "      <td>2015-09-01 00:01:50</td>\n",
       "      <td>2015-09-01 00:04:24</td>\n",
       "      <td>0</td>\n",
       "      <td>1</td>\n",
       "      <td>-73.921410</td>\n",
       "      <td>40.766708</td>\n",
       "      <td>-73.914413</td>\n",
       "      <td>40.764687</td>\n",
       "      <td>1</td>\n",
       "      <td>...</td>\n",
       "      <td>1</td>\n",
       "      <td>0</td>\n",
       "      <td>3.0</td>\n",
       "      <td>2.566667</td>\n",
       "      <td>2</td>\n",
       "      <td>1</td>\n",
       "      <td>13.792208</td>\n",
       "      <td>0</td>\n",
       "      <td>8.62069</td>\n",
       "      <td>1</td>\n",
       "    </tr>\n",
       "    <tr>\n",
       "      <th>3</th>\n",
       "      <td>2</td>\n",
       "      <td>2015-09-01 00:02:36</td>\n",
       "      <td>2015-09-01 00:06:42</td>\n",
       "      <td>0</td>\n",
       "      <td>1</td>\n",
       "      <td>-73.921387</td>\n",
       "      <td>40.766678</td>\n",
       "      <td>-73.931427</td>\n",
       "      <td>40.771584</td>\n",
       "      <td>1</td>\n",
       "      <td>...</td>\n",
       "      <td>1</td>\n",
       "      <td>0</td>\n",
       "      <td>3.0</td>\n",
       "      <td>4.100000</td>\n",
       "      <td>1</td>\n",
       "      <td>2</td>\n",
       "      <td>10.829268</td>\n",
       "      <td>0</td>\n",
       "      <td>0.00000</td>\n",
       "      <td>0</td>\n",
       "    </tr>\n",
       "    <tr>\n",
       "      <th>4</th>\n",
       "      <td>2</td>\n",
       "      <td>2015-09-01 00:00:14</td>\n",
       "      <td>2015-09-01 00:04:20</td>\n",
       "      <td>0</td>\n",
       "      <td>1</td>\n",
       "      <td>-73.955482</td>\n",
       "      <td>40.714046</td>\n",
       "      <td>-73.944412</td>\n",
       "      <td>40.714729</td>\n",
       "      <td>1</td>\n",
       "      <td>...</td>\n",
       "      <td>1</td>\n",
       "      <td>0</td>\n",
       "      <td>3.0</td>\n",
       "      <td>4.100000</td>\n",
       "      <td>1</td>\n",
       "      <td>1</td>\n",
       "      <td>8.926829</td>\n",
       "      <td>0</td>\n",
       "      <td>0.00000</td>\n",
       "      <td>0</td>\n",
       "    </tr>\n",
       "  </tbody>\n",
       "</table>\n",
       "<p>5 rows × 32 columns</p>\n",
       "</div>"
      ],
      "text/plain": [
       "   VendorID         Pickup_date        Dropoff_date  Store_and_fwd_flag  \\\n",
       "0         2 2015-09-01 00:02:34 2015-09-01 00:02:38                   0   \n",
       "1         2 2015-09-01 00:04:20 2015-09-01 00:04:24                   0   \n",
       "2         2 2015-09-01 00:01:50 2015-09-01 00:04:24                   0   \n",
       "3         2 2015-09-01 00:02:36 2015-09-01 00:06:42                   0   \n",
       "4         2 2015-09-01 00:00:14 2015-09-01 00:04:20                   0   \n",
       "\n",
       "   RateCodeID  Pickup_longitude  Pickup_latitude  Dropoff_longitude  \\\n",
       "0           5        -73.979485        40.684956         -73.979431   \n",
       "1           5        -74.010796        40.912216         -74.010780   \n",
       "2           1        -73.921410        40.766708         -73.914413   \n",
       "3           1        -73.921387        40.766678         -73.931427   \n",
       "4           1        -73.955482        40.714046         -73.944412   \n",
       "\n",
       "   Dropoff_latitude  Passenger_count    ...     Month_day  Hour  Shift_type  \\\n",
       "0         40.685020                1    ...             1     0         3.0   \n",
       "1         40.912212                1    ...             1     0         3.0   \n",
       "2         40.764687                1    ...             1     0         3.0   \n",
       "3         40.771584                1    ...             1     0         3.0   \n",
       "4         40.714729                1    ...             1     0         3.0   \n",
       "\n",
       "   Trip_duration  Direction_NS  Direction_EW  Speed_mph  upper_manhattan  \\\n",
       "0       0.066667             1             1   0.000000                0   \n",
       "1       0.066667             2             1   0.000000                0   \n",
       "2       2.566667             2             1  13.792208                0   \n",
       "3       4.100000             1             2  10.829268                0   \n",
       "4       4.100000             1             1   8.926829                0   \n",
       "\n",
       "   Tip_percentage  With_tip  \n",
       "0        20.00000         1  \n",
       "1         0.00000         0  \n",
       "2         8.62069         1  \n",
       "3         0.00000         0  \n",
       "4         0.00000         0  \n",
       "\n",
       "[5 rows x 32 columns]"
      ]
     },
     "execution_count": 39,
     "metadata": {},
     "output_type": "execute_result"
    }
   ],
   "source": [
    "#checking data after feature engg\n",
    "greentrip_db.head(5)"
   ]
  },
  {
   "cell_type": "markdown",
   "metadata": {},
   "source": [
    "## Answer for Question 2: Plotting the Histogram of trip_distance"
   ]
  },
  {
   "cell_type": "code",
   "execution_count": 40,
   "metadata": {
    "collapsed": true
   },
   "outputs": [],
   "source": [
    "import matplotlib.pyplot as plt\n",
    "%matplotlib inline  \n",
    "\n",
    "from scipy import stats"
   ]
  },
  {
   "cell_type": "markdown",
   "metadata": {},
   "source": [
    "### Histogram of  the number of the trip distance"
   ]
  },
  {
   "cell_type": "code",
   "execution_count": 41,
   "metadata": {},
   "outputs": [
    {
     "data": {
      "image/png": "[encoded data removed]",
      "text/plain": [
       "<matplotlib.figure.Figure at 0x7f0aded7e908>"
      ]
     },
     "metadata": {},
     "output_type": "display_data"
    }
   ],
   "source": [
    "fig = plt.subplots(figsize = (15,9)) \n",
    "# histogram of the number of trip distance\n",
    "x = greentrip_db.Trip_distance \n",
    "\n",
    "#excluding the outliers\n",
    "x[~((x-x.median()).abs()>3*x.std())].hist(bins=30) # \n",
    "plt.xlabel('Trip Distance (miles)')\n",
    "plt.ylabel('Count')\n",
    "plt.title('A. Histogram of Trip Distance (without outliers)')\n",
    "\n",
    "#fitting the lognormal curve\n",
    "scatter,loc,mean = stats.lognorm.fit(greentrip_db.Trip_distance.values,\n",
    "                               scale=greentrip_db.Trip_distance.mean(),\n",
    "                               loc=0)\n",
    "pdf_fitted = stats.lognorm.pdf(np.arange(0,12,.1),scatter,loc,mean)\n",
    "plt.plot(np.arange(0,12,.1),600000*pdf_fitted,'r') \n",
    "plt.legend(['data','lognormal fit'])\n",
    "plt.show()"
   ]
  },
  {
   "cell_type": "markdown",
   "metadata": {},
   "source": [
    "## Comment:\n",
    "\n",
    "### The trip distance is asymmetrically distributed and It's right skewed. so the median is smaller than the mean. The structure here is 'Lognormal'\n",
    "\n",
    "### The derivation: It declares the non Gaussian distribution so it's not random in nature otherwise it should be gaussian."
   ]
  },
  {
   "cell_type": "markdown",
   "metadata": {},
   "source": [
    "## Answer for Question 3: Reporting Mean and median trip distance grouped by hour of day"
   ]
  },
  {
   "cell_type": "code",
   "execution_count": 42,
   "metadata": {
    "collapsed": true
   },
   "outputs": [],
   "source": [
    "greentrip_db['Pickup_hour'] = greentrip_db.Pickup_date.apply(lambda x:x.hour)"
   ]
  },
  {
   "cell_type": "code",
   "execution_count": 43,
   "metadata": {},
   "outputs": [
    {
     "name": "stdout",
     "output_type": "stream",
     "text": [
      "  Hour    Mean distance    Median distance\n",
      "------  ---------------  -----------------\n",
      "     0          3.11528               2.2\n",
      "     1          3.01735               2.12\n",
      "     2          3.04618               2.14\n",
      "     3          3.21295               2.2\n",
      "     4          3.52656               2.36\n",
      "     5          4.13347               2.9\n",
      "     6          4.05515               2.84\n",
      "     7          3.28439               2.17\n",
      "     8          3.04845               1.98\n",
      "     9          2.99911               1.96\n",
      "    10          2.94448               1.92\n",
      "    11          2.91202               1.88\n",
      "    12          2.90306               1.89\n",
      "    13          2.87829               1.84\n",
      "    14          2.8643                1.83\n",
      "    15          2.85704               1.81\n",
      "    16          2.77985               1.8\n",
      "    17          2.67911               1.78\n",
      "    18          2.65322               1.8\n",
      "    19          2.7156                1.85\n",
      "    20          2.77705               1.9\n",
      "    21          2.99919               2.03\n",
      "    22          3.18539               2.2\n",
      "    23          3.19154               2.22\n"
     ]
    }
   ],
   "source": [
    "from tabulate import tabulate\n",
    "\n",
    "pickuphr_groupby = greentrip_db.pivot_table(index='Pickup_hour', values='Trip_distance',aggfunc=('mean','median')).reset_index()\n",
    "pickuphr_groupby.columns = ['Hour','Mean_distance','Median_distance']\n",
    "print(tabulate(pickuphr_groupby.values.tolist(),[\"Hour\",\"Mean distance\",\"Median distance\"]))"
   ]
  },
  {
   "cell_type": "markdown",
   "metadata": {},
   "source": [
    "\n",
    "### The rush in the morning is higher. May be people used to take cabs more in the morning due to work. In the evening it's less so people surely uses the other alternative! may be the public transport or carpool."
   ]
  },
  {
   "cell_type": "markdown",
   "metadata": {},
   "source": [
    "### Identifying trips that originate or terminate at one of the NYC area airports.\n",
    "### Finding\n",
    "           -  number of Transactions\n",
    "           -  Mean fare\n",
    "           -  Mean total charge"
   ]
  },
  {
   "cell_type": "code",
   "execution_count": 44,
   "metadata": {
    "collapsed": true
   },
   "outputs": [],
   "source": [
    "#selecting the trips from airports\n",
    "ori_airtrips = greentrip_db[(greentrip_db.RateCodeID==2) | (greentrip_db.RateCodeID==3)]"
   ]
  },
  {
   "cell_type": "code",
   "execution_count": 45,
   "metadata": {},
   "outputs": [
    {
     "name": "stdout",
     "output_type": "stream",
     "text": [
      "Number of trips to/from NYC airports:  5552\n",
      "Average fare (calculated by the meter) of trips to/from NYC airports: $ 51.36671469740634 per trip\n",
      "Average total charged amount (before tip) of trips to/from NYC airports: $ 59.68271433717384 per trip\n"
     ]
    }
   ],
   "source": [
    "print(\"Number of trips to/from NYC airports: \", ori_airtrips.shape[0])\n",
    "print(\"Average fare (calculated by the meter) of trips to/from NYC airports: $\", ori_airtrips.Fare_amount.mean(),\"per trip\")\n",
    "print(\"Average total charged amount (before tip) of trips to/from NYC airports: $\", ori_airtrips.Total_amount.mean(),\"per trip\")"
   ]
  },
  {
   "cell_type": "code",
   "execution_count": 46,
   "metadata": {
    "collapsed": true
   },
   "outputs": [],
   "source": [
    "data = greentrip_db"
   ]
  },
  {
   "cell_type": "markdown",
   "metadata": {},
   "source": [
    "# Solution for Question 4: Predictive Modelling"
   ]
  },
  {
   "cell_type": "markdown",
   "metadata": {},
   "source": [
    "#### Derived variable of Tip as per of Total Fare"
   ]
  },
  {
   "cell_type": "code",
   "execution_count": 47,
   "metadata": {},
   "outputs": [
    {
     "data": {
      "text/plain": [
       "count    1.494926e+06\n",
       "mean     6.634870e+00\n",
       "std      8.867740e+00\n",
       "min      0.000000e+00\n",
       "25%      0.000000e+00\n",
       "50%      0.000000e+00\n",
       "75%      1.666667e+01\n",
       "max      1.000000e+02\n",
       "Name: Tip_percentage, dtype: float64"
      ]
     },
     "execution_count": 47,
     "metadata": {},
     "output_type": "execute_result"
    }
   ],
   "source": [
    "data['Tip_percentage'].describe()"
   ]
  },
  {
   "cell_type": "markdown",
   "metadata": {},
   "source": [
    "# Building the Random Forest Regression Model\n",
    "### I've used Random Forest regressor because,\n",
    "            -  It's very easy to tune\n",
    "            -  I can start with any number of trees in forest. (overfitting isn't there due to this)\n",
    "            -  You can interpret them by probing the tree sturcture\n",
    "            -  You can reduce the number of trees till desired accuracy!\n",
    "            -  They're not so much data intensive"
   ]
  },
  {
   "cell_type": "code",
   "execution_count": 48,
   "metadata": {},
   "outputs": [
    {
     "name": "stderr",
     "output_type": "stream",
     "text": [
      "/home/ambrose/anaconda3/lib/python3.6/site-packages/sklearn/cross_validation.py:44: DeprecationWarning: This module was deprecated in version 0.18 in favor of the model_selection module into which all the refactored classes and functions are moved. Also note that the interface of the new CV iterators are different from that of this module. This module will be removed in 0.20.\n",
      "  \"This module will be removed in 0.20.\", DeprecationWarning)\n",
      "/home/ambrose/anaconda3/lib/python3.6/site-packages/sklearn/grid_search.py:43: DeprecationWarning: This module was deprecated in version 0.18 in favor of the model_selection module into which all the refactored classes and functions are moved. This module will be removed in 0.20.\n",
      "  DeprecationWarning)\n"
     ]
    }
   ],
   "source": [
    "from sklearn.grid_search import GridSearchCV\n",
    "from sklearn.cross_validation import train_test_split\n",
    "from sklearn.metrics import confusion_matrix\n",
    "from sklearn.ensemble import RandomForestRegressor\n",
    "from sklearn.pipeline import Pipeline\n",
    "from sklearn.cross_validation import cross_val_score\n",
    "from sklearn.metrics import mean_squared_error\n",
    "import random"
   ]
  },
  {
   "cell_type": "code",
   "execution_count": 49,
   "metadata": {
    "collapsed": true
   },
   "outputs": [],
   "source": [
    "#optimizing our model\n",
    "def cv_optimize(clf, parameters, X, y, n_jobs=1, n_folds=5, score_func=None, verbose=0):\n",
    "    if score_func:\n",
    "        gs = GridSearchCV(clf, param_grid=parameters, cv=n_folds, n_jobs=n_jobs, scoring=score_func, verbose=verbose)\n",
    "    else:\n",
    "        gs = GridSearchCV(clf, param_grid=parameters, n_jobs=n_jobs, cv=n_folds, verbose=verbose)\n",
    "    gs.fit(X, y)\n",
    "    print(\"BEST\", gs.best_params_, gs.best_score_, gs.grid_scores_, gs.scorer_)\n",
    "    print(\"Best score: \", gs.best_score_)\n",
    "    best = gs.best_estimator_\n",
    "    return best"
   ]
  },
  {
   "cell_type": "markdown",
   "metadata": {},
   "source": [
    "### Spliting Data into Train & test set"
   ]
  },
  {
   "cell_type": "code",
   "execution_count": 50,
   "metadata": {},
   "outputs": [
    {
     "data": {
      "text/plain": [
       "array([ True,  True, False,  True,  True, False,  True,  True, False,  True], dtype=bool)"
      ]
     },
     "execution_count": 50,
     "metadata": {},
     "output_type": "execute_result"
    }
   ],
   "source": [
    "#getting train & test set\n",
    "train_set, test_set = train_test_split(range(data.shape[0]), train_size=0.8)\n",
    "mask=np.ones(data.shape[0], dtype='int')\n",
    "mask[train_set]=1\n",
    "mask[test_set]=0\n",
    "mask = (mask==1)\n",
    "mask[:10]"
   ]
  },
  {
   "cell_type": "markdown",
   "metadata": {},
   "source": [
    "### Assigning the predictors or important features to the data."
   ]
  },
  {
   "cell_type": "code",
   "execution_count": 52,
   "metadata": {},
   "outputs": [],
   "source": [
    "# Split off the features\n",
    "Xnames = ['VendorID', 'Passenger_count', 'Trip_distance', 'Total_amount', \n",
    "              'Extra', 'MTA_tax', 'Tolls_amount', 'Payment_type', \n",
    "              'Hour', 'upper_manhattan', 'Week', 'Week_day', 'Month_day', 'Shift_type', \n",
    "              'Direction_NS', 'Direction_EW', 'Trip_duration', 'Speed_mph']\n",
    "#'VendorID', 'Store_and_fwd_flag','RateCodeID','Passenger_count','Trip_distance', 'Fare_amount', 'Extra', 'MTA_tax','Tolls_amount', 'improvement_surcharge','Payment_type', 'Trip_type ', 'Week', 'Week_day', 'Month_day', 'Hour', 'Shift_type','Trip_duration', 'Direction_NS', 'Direction_EW', 'Speed_mph','upper_manhattan', 'Pickup_hour','With_tip' ,'Total_amount','Tip_percentage','Tip_amount'\n",
    "#Xnames = ['Total_amount','Tip_amount']\n",
    "X = data[Xnames]\n",
    "y = np.log10(data['Tip_amount']+1)"
   ]
  },
  {
   "cell_type": "markdown",
   "metadata": {},
   "source": [
    "### Masking the train and test set."
   ]
  },
  {
   "cell_type": "code",
   "execution_count": 53,
   "metadata": {},
   "outputs": [
    {
     "name": "stdout",
     "output_type": "stream",
     "text": [
      "(1195940, 18)\n",
      "(1000000, 18)\n"
     ]
    },
    {
     "data": {
      "text/html": [
       "<div>\n",
       "<style>\n",
       "    .dataframe thead tr:only-child th {\n",
       "        text-align: right;\n",
       "    }\n",
       "\n",
       "    .dataframe thead th {\n",
       "        text-align: left;\n",
       "    }\n",
       "\n",
       "    .dataframe tbody tr th {\n",
       "        vertical-align: top;\n",
       "    }\n",
       "</style>\n",
       "<table border=\"1\" class=\"dataframe\">\n",
       "  <thead>\n",
       "    <tr style=\"text-align: right;\">\n",
       "      <th></th>\n",
       "      <th>VendorID</th>\n",
       "      <th>Passenger_count</th>\n",
       "      <th>Trip_distance</th>\n",
       "      <th>Total_amount</th>\n",
       "      <th>Extra</th>\n",
       "      <th>MTA_tax</th>\n",
       "      <th>Tolls_amount</th>\n",
       "      <th>Payment_type</th>\n",
       "      <th>Hour</th>\n",
       "      <th>upper_manhattan</th>\n",
       "      <th>Week</th>\n",
       "      <th>Week_day</th>\n",
       "      <th>Month_day</th>\n",
       "      <th>Shift_type</th>\n",
       "      <th>Direction_NS</th>\n",
       "      <th>Direction_EW</th>\n",
       "      <th>Trip_duration</th>\n",
       "      <th>Speed_mph</th>\n",
       "    </tr>\n",
       "  </thead>\n",
       "  <tbody>\n",
       "    <tr>\n",
       "      <th>1195440</th>\n",
       "      <td>2</td>\n",
       "      <td>1</td>\n",
       "      <td>3.59</td>\n",
       "      <td>19.8</td>\n",
       "      <td>0.0</td>\n",
       "      <td>0.5</td>\n",
       "      <td>0.0</td>\n",
       "      <td>1</td>\n",
       "      <td>7</td>\n",
       "      <td>0</td>\n",
       "      <td>4</td>\n",
       "      <td>5</td>\n",
       "      <td>25</td>\n",
       "      <td>1.0</td>\n",
       "      <td>1</td>\n",
       "      <td>2</td>\n",
       "      <td>22.466667</td>\n",
       "      <td>9.587537</td>\n",
       "    </tr>\n",
       "    <tr>\n",
       "      <th>33847</th>\n",
       "      <td>2</td>\n",
       "      <td>1</td>\n",
       "      <td>1.73</td>\n",
       "      <td>11.3</td>\n",
       "      <td>0.5</td>\n",
       "      <td>0.5</td>\n",
       "      <td>0.0</td>\n",
       "      <td>2</td>\n",
       "      <td>20</td>\n",
       "      <td>0</td>\n",
       "      <td>1</td>\n",
       "      <td>2</td>\n",
       "      <td>1</td>\n",
       "      <td>2.0</td>\n",
       "      <td>1</td>\n",
       "      <td>2</td>\n",
       "      <td>12.133333</td>\n",
       "      <td>8.554945</td>\n",
       "    </tr>\n",
       "    <tr>\n",
       "      <th>132711</th>\n",
       "      <td>2</td>\n",
       "      <td>1</td>\n",
       "      <td>12.90</td>\n",
       "      <td>49.3</td>\n",
       "      <td>0.5</td>\n",
       "      <td>0.5</td>\n",
       "      <td>0.0</td>\n",
       "      <td>2</td>\n",
       "      <td>23</td>\n",
       "      <td>0</td>\n",
       "      <td>1</td>\n",
       "      <td>4</td>\n",
       "      <td>3</td>\n",
       "      <td>3.0</td>\n",
       "      <td>2</td>\n",
       "      <td>2</td>\n",
       "      <td>53.650000</td>\n",
       "      <td>14.426841</td>\n",
       "    </tr>\n",
       "    <tr>\n",
       "      <th>648471</th>\n",
       "      <td>2</td>\n",
       "      <td>1</td>\n",
       "      <td>3.56</td>\n",
       "      <td>15.3</td>\n",
       "      <td>0.0</td>\n",
       "      <td>0.5</td>\n",
       "      <td>0.0</td>\n",
       "      <td>2</td>\n",
       "      <td>18</td>\n",
       "      <td>1</td>\n",
       "      <td>2</td>\n",
       "      <td>7</td>\n",
       "      <td>13</td>\n",
       "      <td>2.0</td>\n",
       "      <td>2</td>\n",
       "      <td>2</td>\n",
       "      <td>17.650000</td>\n",
       "      <td>12.101983</td>\n",
       "    </tr>\n",
       "    <tr>\n",
       "      <th>395271</th>\n",
       "      <td>2</td>\n",
       "      <td>1</td>\n",
       "      <td>1.28</td>\n",
       "      <td>7.3</td>\n",
       "      <td>0.0</td>\n",
       "      <td>0.5</td>\n",
       "      <td>0.0</td>\n",
       "      <td>2</td>\n",
       "      <td>9</td>\n",
       "      <td>0</td>\n",
       "      <td>2</td>\n",
       "      <td>3</td>\n",
       "      <td>9</td>\n",
       "      <td>1.0</td>\n",
       "      <td>2</td>\n",
       "      <td>1</td>\n",
       "      <td>5.066667</td>\n",
       "      <td>15.157895</td>\n",
       "    </tr>\n",
       "  </tbody>\n",
       "</table>\n",
       "</div>"
      ],
      "text/plain": [
       "         VendorID  Passenger_count  Trip_distance  Total_amount  Extra  \\\n",
       "1195440         2                1           3.59          19.8    0.0   \n",
       "33847           2                1           1.73          11.3    0.5   \n",
       "132711          2                1          12.90          49.3    0.5   \n",
       "648471          2                1           3.56          15.3    0.0   \n",
       "395271          2                1           1.28           7.3    0.0   \n",
       "\n",
       "         MTA_tax  Tolls_amount  Payment_type  Hour  upper_manhattan  Week  \\\n",
       "1195440      0.5           0.0             1     7                0     4   \n",
       "33847        0.5           0.0             2    20                0     1   \n",
       "132711       0.5           0.0             2    23                0     1   \n",
       "648471       0.5           0.0             2    18                1     2   \n",
       "395271       0.5           0.0             2     9                0     2   \n",
       "\n",
       "         Week_day  Month_day  Shift_type  Direction_NS  Direction_EW  \\\n",
       "1195440         5         25         1.0             1             2   \n",
       "33847           2          1         2.0             1             2   \n",
       "132711          4          3         3.0             2             2   \n",
       "648471          7         13         2.0             2             2   \n",
       "395271          3          9         1.0             2             1   \n",
       "\n",
       "         Trip_duration  Speed_mph  \n",
       "1195440      22.466667   9.587537  \n",
       "33847        12.133333   8.554945  \n",
       "132711       53.650000  14.426841  \n",
       "648471       17.650000  12.101983  \n",
       "395271        5.066667  15.157895  "
      ]
     },
     "execution_count": 53,
     "metadata": {},
     "output_type": "execute_result"
    }
   ],
   "source": [
    "Xtrain, Xtest, ytrain, ytest = X[mask], X[~mask], y[mask], y[~mask]\n",
    "n_samples = Xtrain.shape[0]\n",
    "n_features = Xtrain.shape[1]\n",
    "print(Xtrain.shape)\n",
    "max_samples = 1000000\n",
    "if Xtrain.shape[0] > max_samples:\n",
    "    rows = random.sample(list(Xtrain.index),max_samples)\n",
    "    Xtrain = Xtrain.ix[rows]\n",
    "    ytrain = ytrain.ix[rows]\n",
    "    \n",
    "print (Xtrain.shape)\n",
    "Xtrain.head()"
   ]
  },
  {
   "cell_type": "markdown",
   "metadata": {},
   "source": [
    "### Running Regressor estimator for parameter estimation of our random forest regressor."
   ]
  },
  {
   "cell_type": "code",
   "execution_count": 54,
   "metadata": {
    "collapsed": true
   },
   "outputs": [],
   "source": [
    "estimator = RandomForestRegressor(n_estimators=20, n_jobs=-1)"
   ]
  },
  {
   "cell_type": "code",
   "execution_count": 55,
   "metadata": {},
   "outputs": [
    {
     "name": "stdout",
     "output_type": "stream",
     "text": [
      "Fitting 5 folds for each of 1 candidates, totalling 5 fits\n",
      "[CV] max_depth=50, max_features=auto, n_estimators=50 ................\n"
     ]
    },
    {
     "name": "stderr",
     "output_type": "stream",
     "text": [
      "/home/ambrose/anaconda3/lib/python3.6/site-packages/sklearn/metrics/scorer.py:90: DeprecationWarning: Scoring method mean_squared_error was renamed to neg_mean_squared_error in version 0.18 and will be removed in 0.20.\n",
      "  sample_weight=sample_weight)\n"
     ]
    },
    {
     "name": "stdout",
     "output_type": "stream",
     "text": [
      "[CV]  max_depth=50, max_features=auto, n_estimators=50, score=-0.002822 - 1.6min\n",
      "[CV] max_depth=50, max_features=auto, n_estimators=50 ................\n"
     ]
    },
    {
     "name": "stderr",
     "output_type": "stream",
     "text": [
      "[Parallel(n_jobs=1)]: Done   1 out of   1 | elapsed:  1.6min remaining:    0.0s\n",
      "/home/ambrose/anaconda3/lib/python3.6/site-packages/sklearn/metrics/scorer.py:90: DeprecationWarning: Scoring method mean_squared_error was renamed to neg_mean_squared_error in version 0.18 and will be removed in 0.20.\n",
      "  sample_weight=sample_weight)\n"
     ]
    },
    {
     "name": "stdout",
     "output_type": "stream",
     "text": [
      "[CV]  max_depth=50, max_features=auto, n_estimators=50, score=-0.002833 - 1.8min\n",
      "[CV] max_depth=50, max_features=auto, n_estimators=50 ................\n"
     ]
    },
    {
     "name": "stderr",
     "output_type": "stream",
     "text": [
      "[Parallel(n_jobs=1)]: Done   2 out of   2 | elapsed:  3.4min remaining:    0.0s\n",
      "/home/ambrose/anaconda3/lib/python3.6/site-packages/sklearn/metrics/scorer.py:90: DeprecationWarning: Scoring method mean_squared_error was renamed to neg_mean_squared_error in version 0.18 and will be removed in 0.20.\n",
      "  sample_weight=sample_weight)\n"
     ]
    },
    {
     "name": "stdout",
     "output_type": "stream",
     "text": [
      "[CV]  max_depth=50, max_features=auto, n_estimators=50, score=-0.002853 - 1.7min\n",
      "[CV] max_depth=50, max_features=auto, n_estimators=50 ................\n"
     ]
    },
    {
     "name": "stderr",
     "output_type": "stream",
     "text": [
      "/home/ambrose/anaconda3/lib/python3.6/site-packages/sklearn/metrics/scorer.py:90: DeprecationWarning: Scoring method mean_squared_error was renamed to neg_mean_squared_error in version 0.18 and will be removed in 0.20.\n",
      "  sample_weight=sample_weight)\n"
     ]
    },
    {
     "name": "stdout",
     "output_type": "stream",
     "text": [
      "[CV]  max_depth=50, max_features=auto, n_estimators=50, score=-0.002908 - 1.6min\n",
      "[CV] max_depth=50, max_features=auto, n_estimators=50 ................\n"
     ]
    },
    {
     "name": "stderr",
     "output_type": "stream",
     "text": [
      "/home/ambrose/anaconda3/lib/python3.6/site-packages/sklearn/metrics/scorer.py:90: DeprecationWarning: Scoring method mean_squared_error was renamed to neg_mean_squared_error in version 0.18 and will be removed in 0.20.\n",
      "  sample_weight=sample_weight)\n"
     ]
    },
    {
     "name": "stdout",
     "output_type": "stream",
     "text": [
      "[CV]  max_depth=50, max_features=auto, n_estimators=50, score=-0.002808 - 1.7min\n"
     ]
    },
    {
     "name": "stderr",
     "output_type": "stream",
     "text": [
      "[Parallel(n_jobs=1)]: Done   5 out of   5 | elapsed:  8.3min finished\n"
     ]
    },
    {
     "name": "stdout",
     "output_type": "stream",
     "text": [
      "BEST {'max_depth': 50, 'max_features': 'auto', 'n_estimators': 50} -0.0028450319919672896 [mean: -0.00285, std: 0.00003, params: {'max_depth': 50, 'max_features': 'auto', 'n_estimators': 50}] make_scorer(mean_squared_error, greater_is_better=False)\n",
      "Best score:  -0.0028450319919672896\n"
     ]
    }
   ],
   "source": [
    "#defining the parameters\n",
    "\n",
    "parameters = {\"n_estimators\": [50],\n",
    "              \"max_features\": [\"auto\"],\n",
    "              \"max_depth\": [50]}\n",
    "best = cv_optimize(estimator, parameters, Xtrain, ytrain, n_folds=5, score_func='mean_squared_error', verbose=3)"
   ]
  },
  {
   "cell_type": "markdown",
   "metadata": {},
   "source": [
    "### Fitting the Machine learning model using training set"
   ]
  },
  {
   "cell_type": "code",
   "execution_count": 56,
   "metadata": {},
   "outputs": [
    {
     "name": "stdout",
     "output_type": "stream",
     "text": [
      "############# based on standard predict ################\n",
      "R^2 on training data: 0.9955\n",
      "R^2 on test data:     0.9691\n"
     ]
    }
   ],
   "source": [
    "reg=best.fit(Xtrain, ytrain)\n",
    "training_accuracy = reg.score(Xtrain, ytrain)\n",
    "test_accuracy = reg.score(Xtest, ytest)\n",
    "print (\"############# based on standard predict ################\")\n",
    "print (\"R^2 on training data: %0.4f\" % (training_accuracy))\n",
    "print (\"R^2 on test data:     %0.4f\" % (test_accuracy))"
   ]
  },
  {
   "cell_type": "markdown",
   "metadata": {},
   "source": [
    "### Finding the accuracy parameters & validating results "
   ]
  },
  {
   "cell_type": "code",
   "execution_count": 57,
   "metadata": {},
   "outputs": [
    {
     "data": {
      "text/plain": [
       "array([[0, 0],\n",
       "       [1, 1],\n",
       "       [1, 1],\n",
       "       ..., \n",
       "       [0, 0],\n",
       "       [0, 0],\n",
       "       [0, 0]])"
      ]
     },
     "execution_count": 57,
     "metadata": {},
     "output_type": "execute_result"
    }
   ],
   "source": [
    "np.round(np.power(10,np.column_stack((reg.predict(Xtest),ytest))) - 1,decimals=0).astype(int)"
   ]
  },
  {
   "cell_type": "markdown",
   "metadata": {},
   "source": [
    "### Calculating the Mean Square Error"
   ]
  },
  {
   "cell_type": "code",
   "execution_count": 58,
   "metadata": {},
   "outputs": [
    {
     "name": "stdout",
     "output_type": "stream",
     "text": [
      "RMSE = 0.053 (this is in log-space!)\n",
      "So two thirds of the records would be a factor of less than 1.13 away from the real value.\n"
     ]
    }
   ],
   "source": [
    "rmse = np.sqrt(mean_squared_error(reg.predict(Xtest),ytest))\n",
    "print (\"RMSE = %0.3f (this is in log-space!)\" % rmse)\n",
    "print (\"So two thirds of the records would be a factor of less than %0.2f away from the real value.\" % np.power(10,rmse))"
   ]
  },
  {
   "cell_type": "code",
   "execution_count": 93,
   "metadata": {
    "collapsed": true
   },
   "outputs": [],
   "source": [
    "result = greentrip_db[Xnames]"
   ]
  },
  {
   "cell_type": "markdown",
   "metadata": {},
   "source": [
    "## Predicting the Values & adding it to our dataframe"
   ]
  },
  {
   "cell_type": "code",
   "execution_count": 94,
   "metadata": {},
   "outputs": [],
   "source": [
    "result['predicted_Tip_amount'] = np.power(10,reg.predict(result)) - 1"
   ]
  },
  {
   "cell_type": "markdown",
   "metadata": {},
   "source": [
    "### Displaying the results"
   ]
  },
  {
   "cell_type": "code",
   "execution_count": 97,
   "metadata": {},
   "outputs": [
    {
     "data": {
      "text/html": [
       "<div>\n",
       "<style>\n",
       "    .dataframe thead tr:only-child th {\n",
       "        text-align: right;\n",
       "    }\n",
       "\n",
       "    .dataframe thead th {\n",
       "        text-align: left;\n",
       "    }\n",
       "\n",
       "    .dataframe tbody tr th {\n",
       "        vertical-align: top;\n",
       "    }\n",
       "</style>\n",
       "<table border=\"1\" class=\"dataframe\">\n",
       "  <thead>\n",
       "    <tr style=\"text-align: right;\">\n",
       "      <th></th>\n",
       "      <th>VendorID</th>\n",
       "      <th>Passenger_count</th>\n",
       "      <th>Trip_distance</th>\n",
       "      <th>Total_amount</th>\n",
       "      <th>Extra</th>\n",
       "      <th>MTA_tax</th>\n",
       "      <th>Tolls_amount</th>\n",
       "      <th>Payment_type</th>\n",
       "      <th>Hour</th>\n",
       "      <th>upper_manhattan</th>\n",
       "      <th>Week</th>\n",
       "      <th>Week_day</th>\n",
       "      <th>Month_day</th>\n",
       "      <th>Shift_type</th>\n",
       "      <th>Direction_NS</th>\n",
       "      <th>Direction_EW</th>\n",
       "      <th>Trip_duration</th>\n",
       "      <th>Speed_mph</th>\n",
       "      <th>predicted_Tip_amount</th>\n",
       "      <th>Actual_Tip_amount</th>\n",
       "    </tr>\n",
       "  </thead>\n",
       "  <tbody>\n",
       "    <tr>\n",
       "      <th>0</th>\n",
       "      <td>2</td>\n",
       "      <td>1</td>\n",
       "      <td>0.00</td>\n",
       "      <td>9.75</td>\n",
       "      <td>0.0</td>\n",
       "      <td>0.0</td>\n",
       "      <td>0.0</td>\n",
       "      <td>1</td>\n",
       "      <td>0</td>\n",
       "      <td>0</td>\n",
       "      <td>1</td>\n",
       "      <td>2</td>\n",
       "      <td>1</td>\n",
       "      <td>3.0</td>\n",
       "      <td>1</td>\n",
       "      <td>1</td>\n",
       "      <td>0.066667</td>\n",
       "      <td>0.000000</td>\n",
       "      <td>1.229049</td>\n",
       "      <td>1.95</td>\n",
       "    </tr>\n",
       "    <tr>\n",
       "      <th>1</th>\n",
       "      <td>2</td>\n",
       "      <td>1</td>\n",
       "      <td>0.00</td>\n",
       "      <td>45.00</td>\n",
       "      <td>0.0</td>\n",
       "      <td>0.0</td>\n",
       "      <td>0.0</td>\n",
       "      <td>1</td>\n",
       "      <td>0</td>\n",
       "      <td>0</td>\n",
       "      <td>1</td>\n",
       "      <td>2</td>\n",
       "      <td>1</td>\n",
       "      <td>3.0</td>\n",
       "      <td>2</td>\n",
       "      <td>1</td>\n",
       "      <td>0.066667</td>\n",
       "      <td>0.000000</td>\n",
       "      <td>0.492635</td>\n",
       "      <td>0.00</td>\n",
       "    </tr>\n",
       "    <tr>\n",
       "      <th>2</th>\n",
       "      <td>2</td>\n",
       "      <td>1</td>\n",
       "      <td>0.59</td>\n",
       "      <td>5.80</td>\n",
       "      <td>0.5</td>\n",
       "      <td>0.5</td>\n",
       "      <td>0.0</td>\n",
       "      <td>1</td>\n",
       "      <td>0</td>\n",
       "      <td>0</td>\n",
       "      <td>1</td>\n",
       "      <td>2</td>\n",
       "      <td>1</td>\n",
       "      <td>3.0</td>\n",
       "      <td>2</td>\n",
       "      <td>1</td>\n",
       "      <td>2.566667</td>\n",
       "      <td>13.792208</td>\n",
       "      <td>0.145566</td>\n",
       "      <td>0.50</td>\n",
       "    </tr>\n",
       "    <tr>\n",
       "      <th>3</th>\n",
       "      <td>2</td>\n",
       "      <td>1</td>\n",
       "      <td>0.74</td>\n",
       "      <td>6.30</td>\n",
       "      <td>0.5</td>\n",
       "      <td>0.5</td>\n",
       "      <td>0.0</td>\n",
       "      <td>2</td>\n",
       "      <td>0</td>\n",
       "      <td>0</td>\n",
       "      <td>1</td>\n",
       "      <td>2</td>\n",
       "      <td>1</td>\n",
       "      <td>3.0</td>\n",
       "      <td>1</td>\n",
       "      <td>2</td>\n",
       "      <td>4.100000</td>\n",
       "      <td>10.829268</td>\n",
       "      <td>0.000000</td>\n",
       "      <td>0.00</td>\n",
       "    </tr>\n",
       "    <tr>\n",
       "      <th>4</th>\n",
       "      <td>2</td>\n",
       "      <td>1</td>\n",
       "      <td>0.61</td>\n",
       "      <td>6.30</td>\n",
       "      <td>0.5</td>\n",
       "      <td>0.5</td>\n",
       "      <td>0.0</td>\n",
       "      <td>2</td>\n",
       "      <td>0</td>\n",
       "      <td>0</td>\n",
       "      <td>1</td>\n",
       "      <td>2</td>\n",
       "      <td>1</td>\n",
       "      <td>3.0</td>\n",
       "      <td>1</td>\n",
       "      <td>1</td>\n",
       "      <td>4.100000</td>\n",
       "      <td>8.926829</td>\n",
       "      <td>0.000000</td>\n",
       "      <td>0.00</td>\n",
       "    </tr>\n",
       "  </tbody>\n",
       "</table>\n",
       "</div>"
      ],
      "text/plain": [
       "   VendorID  Passenger_count  Trip_distance  Total_amount  Extra  MTA_tax  \\\n",
       "0         2                1           0.00          9.75    0.0      0.0   \n",
       "1         2                1           0.00         45.00    0.0      0.0   \n",
       "2         2                1           0.59          5.80    0.5      0.5   \n",
       "3         2                1           0.74          6.30    0.5      0.5   \n",
       "4         2                1           0.61          6.30    0.5      0.5   \n",
       "\n",
       "   Tolls_amount  Payment_type  Hour  upper_manhattan  Week  Week_day  \\\n",
       "0           0.0             1     0                0     1         2   \n",
       "1           0.0             1     0                0     1         2   \n",
       "2           0.0             1     0                0     1         2   \n",
       "3           0.0             2     0                0     1         2   \n",
       "4           0.0             2     0                0     1         2   \n",
       "\n",
       "   Month_day  Shift_type  Direction_NS  Direction_EW  Trip_duration  \\\n",
       "0          1         3.0             1             1       0.066667   \n",
       "1          1         3.0             2             1       0.066667   \n",
       "2          1         3.0             2             1       2.566667   \n",
       "3          1         3.0             1             2       4.100000   \n",
       "4          1         3.0             1             1       4.100000   \n",
       "\n",
       "   Speed_mph  predicted_Tip_amount  Actual_Tip_amount  \n",
       "0   0.000000              1.229049               1.95  \n",
       "1   0.000000              0.492635               0.00  \n",
       "2  13.792208              0.145566               0.50  \n",
       "3  10.829268              0.000000               0.00  \n",
       "4   8.926829              0.000000               0.00  "
      ]
     },
     "execution_count": 97,
     "metadata": {},
     "output_type": "execute_result"
    }
   ],
   "source": [
    "result['Actual_Tip_amount'] = greentrip_db['Tip_amount']\n",
    "result.head()"
   ]
  },
  {
   "cell_type": "markdown",
   "metadata": {},
   "source": [
    "### Showing Actual & predicted tip values separately"
   ]
  },
  {
   "cell_type": "code",
   "execution_count": 103,
   "metadata": {},
   "outputs": [
    {
     "data": {
      "text/html": [
       "<div>\n",
       "<style>\n",
       "    .dataframe thead tr:only-child th {\n",
       "        text-align: right;\n",
       "    }\n",
       "\n",
       "    .dataframe thead th {\n",
       "        text-align: left;\n",
       "    }\n",
       "\n",
       "    .dataframe tbody tr th {\n",
       "        vertical-align: top;\n",
       "    }\n",
       "</style>\n",
       "<table border=\"1\" class=\"dataframe\">\n",
       "  <thead>\n",
       "    <tr style=\"text-align: right;\">\n",
       "      <th></th>\n",
       "      <th>predicted_Tip_amount</th>\n",
       "      <th>Actual_Tip_amount</th>\n",
       "    </tr>\n",
       "  </thead>\n",
       "  <tbody>\n",
       "    <tr>\n",
       "      <th>0</th>\n",
       "      <td>1.229049e+00</td>\n",
       "      <td>1.95</td>\n",
       "    </tr>\n",
       "    <tr>\n",
       "      <th>1</th>\n",
       "      <td>4.926350e-01</td>\n",
       "      <td>0.00</td>\n",
       "    </tr>\n",
       "    <tr>\n",
       "      <th>2</th>\n",
       "      <td>1.455656e-01</td>\n",
       "      <td>0.50</td>\n",
       "    </tr>\n",
       "    <tr>\n",
       "      <th>3</th>\n",
       "      <td>0.000000e+00</td>\n",
       "      <td>0.00</td>\n",
       "    </tr>\n",
       "    <tr>\n",
       "      <th>4</th>\n",
       "      <td>0.000000e+00</td>\n",
       "      <td>0.00</td>\n",
       "    </tr>\n",
       "    <tr>\n",
       "      <th>5</th>\n",
       "      <td>1.360000e+00</td>\n",
       "      <td>1.36</td>\n",
       "    </tr>\n",
       "    <tr>\n",
       "      <th>6</th>\n",
       "      <td>3.010691e-07</td>\n",
       "      <td>0.00</td>\n",
       "    </tr>\n",
       "    <tr>\n",
       "      <th>7</th>\n",
       "      <td>0.000000e+00</td>\n",
       "      <td>0.00</td>\n",
       "    </tr>\n",
       "    <tr>\n",
       "      <th>8</th>\n",
       "      <td>1.460000e+00</td>\n",
       "      <td>1.46</td>\n",
       "    </tr>\n",
       "    <tr>\n",
       "      <th>9</th>\n",
       "      <td>0.000000e+00</td>\n",
       "      <td>0.00</td>\n",
       "    </tr>\n",
       "    <tr>\n",
       "      <th>10</th>\n",
       "      <td>0.000000e+00</td>\n",
       "      <td>0.00</td>\n",
       "    </tr>\n",
       "    <tr>\n",
       "      <th>11</th>\n",
       "      <td>1.060003e+00</td>\n",
       "      <td>1.06</td>\n",
       "    </tr>\n",
       "    <tr>\n",
       "      <th>12</th>\n",
       "      <td>0.000000e+00</td>\n",
       "      <td>0.00</td>\n",
       "    </tr>\n",
       "    <tr>\n",
       "      <th>13</th>\n",
       "      <td>0.000000e+00</td>\n",
       "      <td>0.00</td>\n",
       "    </tr>\n",
       "    <tr>\n",
       "      <th>14</th>\n",
       "      <td>0.000000e+00</td>\n",
       "      <td>0.00</td>\n",
       "    </tr>\n",
       "    <tr>\n",
       "      <th>15</th>\n",
       "      <td>0.000000e+00</td>\n",
       "      <td>0.00</td>\n",
       "    </tr>\n",
       "    <tr>\n",
       "      <th>16</th>\n",
       "      <td>0.000000e+00</td>\n",
       "      <td>0.00</td>\n",
       "    </tr>\n",
       "    <tr>\n",
       "      <th>17</th>\n",
       "      <td>1.260003e+00</td>\n",
       "      <td>1.26</td>\n",
       "    </tr>\n",
       "    <tr>\n",
       "      <th>18</th>\n",
       "      <td>0.000000e+00</td>\n",
       "      <td>0.00</td>\n",
       "    </tr>\n",
       "    <tr>\n",
       "      <th>19</th>\n",
       "      <td>0.000000e+00</td>\n",
       "      <td>0.00</td>\n",
       "    </tr>\n",
       "    <tr>\n",
       "      <th>20</th>\n",
       "      <td>0.000000e+00</td>\n",
       "      <td>0.00</td>\n",
       "    </tr>\n",
       "    <tr>\n",
       "      <th>21</th>\n",
       "      <td>1.460000e+00</td>\n",
       "      <td>1.46</td>\n",
       "    </tr>\n",
       "    <tr>\n",
       "      <th>22</th>\n",
       "      <td>1.860002e+00</td>\n",
       "      <td>1.86</td>\n",
       "    </tr>\n",
       "    <tr>\n",
       "      <th>23</th>\n",
       "      <td>0.000000e+00</td>\n",
       "      <td>0.00</td>\n",
       "    </tr>\n",
       "    <tr>\n",
       "      <th>24</th>\n",
       "      <td>0.000000e+00</td>\n",
       "      <td>0.00</td>\n",
       "    </tr>\n",
       "    <tr>\n",
       "      <th>25</th>\n",
       "      <td>0.000000e+00</td>\n",
       "      <td>0.00</td>\n",
       "    </tr>\n",
       "    <tr>\n",
       "      <th>26</th>\n",
       "      <td>2.359988e+00</td>\n",
       "      <td>2.36</td>\n",
       "    </tr>\n",
       "    <tr>\n",
       "      <th>27</th>\n",
       "      <td>0.000000e+00</td>\n",
       "      <td>0.00</td>\n",
       "    </tr>\n",
       "    <tr>\n",
       "      <th>28</th>\n",
       "      <td>0.000000e+00</td>\n",
       "      <td>0.00</td>\n",
       "    </tr>\n",
       "    <tr>\n",
       "      <th>29</th>\n",
       "      <td>0.000000e+00</td>\n",
       "      <td>0.00</td>\n",
       "    </tr>\n",
       "    <tr>\n",
       "      <th>30</th>\n",
       "      <td>0.000000e+00</td>\n",
       "      <td>0.00</td>\n",
       "    </tr>\n",
       "    <tr>\n",
       "      <th>31</th>\n",
       "      <td>0.000000e+00</td>\n",
       "      <td>0.00</td>\n",
       "    </tr>\n",
       "    <tr>\n",
       "      <th>32</th>\n",
       "      <td>1.440000e+00</td>\n",
       "      <td>1.44</td>\n",
       "    </tr>\n",
       "    <tr>\n",
       "      <th>33</th>\n",
       "      <td>0.000000e+00</td>\n",
       "      <td>0.00</td>\n",
       "    </tr>\n",
       "    <tr>\n",
       "      <th>34</th>\n",
       "      <td>1.055382e+00</td>\n",
       "      <td>1.00</td>\n",
       "    </tr>\n",
       "    <tr>\n",
       "      <th>35</th>\n",
       "      <td>0.000000e+00</td>\n",
       "      <td>0.00</td>\n",
       "    </tr>\n",
       "    <tr>\n",
       "      <th>36</th>\n",
       "      <td>0.000000e+00</td>\n",
       "      <td>0.00</td>\n",
       "    </tr>\n",
       "    <tr>\n",
       "      <th>37</th>\n",
       "      <td>0.000000e+00</td>\n",
       "      <td>0.00</td>\n",
       "    </tr>\n",
       "    <tr>\n",
       "      <th>38</th>\n",
       "      <td>0.000000e+00</td>\n",
       "      <td>0.00</td>\n",
       "    </tr>\n",
       "    <tr>\n",
       "      <th>39</th>\n",
       "      <td>1.236998e+00</td>\n",
       "      <td>1.26</td>\n",
       "    </tr>\n",
       "    <tr>\n",
       "      <th>40</th>\n",
       "      <td>0.000000e+00</td>\n",
       "      <td>0.00</td>\n",
       "    </tr>\n",
       "    <tr>\n",
       "      <th>41</th>\n",
       "      <td>0.000000e+00</td>\n",
       "      <td>0.00</td>\n",
       "    </tr>\n",
       "    <tr>\n",
       "      <th>42</th>\n",
       "      <td>0.000000e+00</td>\n",
       "      <td>0.00</td>\n",
       "    </tr>\n",
       "    <tr>\n",
       "      <th>43</th>\n",
       "      <td>0.000000e+00</td>\n",
       "      <td>0.00</td>\n",
       "    </tr>\n",
       "    <tr>\n",
       "      <th>44</th>\n",
       "      <td>5.701804e-02</td>\n",
       "      <td>0.00</td>\n",
       "    </tr>\n",
       "    <tr>\n",
       "      <th>45</th>\n",
       "      <td>0.000000e+00</td>\n",
       "      <td>0.00</td>\n",
       "    </tr>\n",
       "    <tr>\n",
       "      <th>46</th>\n",
       "      <td>4.246687e-02</td>\n",
       "      <td>0.00</td>\n",
       "    </tr>\n",
       "    <tr>\n",
       "      <th>47</th>\n",
       "      <td>0.000000e+00</td>\n",
       "      <td>0.00</td>\n",
       "    </tr>\n",
       "    <tr>\n",
       "      <th>48</th>\n",
       "      <td>0.000000e+00</td>\n",
       "      <td>0.00</td>\n",
       "    </tr>\n",
       "    <tr>\n",
       "      <th>49</th>\n",
       "      <td>1.159998e+00</td>\n",
       "      <td>1.16</td>\n",
       "    </tr>\n",
       "  </tbody>\n",
       "</table>\n",
       "</div>"
      ],
      "text/plain": [
       "    predicted_Tip_amount  Actual_Tip_amount\n",
       "0           1.229049e+00               1.95\n",
       "1           4.926350e-01               0.00\n",
       "2           1.455656e-01               0.50\n",
       "3           0.000000e+00               0.00\n",
       "4           0.000000e+00               0.00\n",
       "5           1.360000e+00               1.36\n",
       "6           3.010691e-07               0.00\n",
       "7           0.000000e+00               0.00\n",
       "8           1.460000e+00               1.46\n",
       "9           0.000000e+00               0.00\n",
       "10          0.000000e+00               0.00\n",
       "11          1.060003e+00               1.06\n",
       "12          0.000000e+00               0.00\n",
       "13          0.000000e+00               0.00\n",
       "14          0.000000e+00               0.00\n",
       "15          0.000000e+00               0.00\n",
       "16          0.000000e+00               0.00\n",
       "17          1.260003e+00               1.26\n",
       "18          0.000000e+00               0.00\n",
       "19          0.000000e+00               0.00\n",
       "20          0.000000e+00               0.00\n",
       "21          1.460000e+00               1.46\n",
       "22          1.860002e+00               1.86\n",
       "23          0.000000e+00               0.00\n",
       "24          0.000000e+00               0.00\n",
       "25          0.000000e+00               0.00\n",
       "26          2.359988e+00               2.36\n",
       "27          0.000000e+00               0.00\n",
       "28          0.000000e+00               0.00\n",
       "29          0.000000e+00               0.00\n",
       "30          0.000000e+00               0.00\n",
       "31          0.000000e+00               0.00\n",
       "32          1.440000e+00               1.44\n",
       "33          0.000000e+00               0.00\n",
       "34          1.055382e+00               1.00\n",
       "35          0.000000e+00               0.00\n",
       "36          0.000000e+00               0.00\n",
       "37          0.000000e+00               0.00\n",
       "38          0.000000e+00               0.00\n",
       "39          1.236998e+00               1.26\n",
       "40          0.000000e+00               0.00\n",
       "41          0.000000e+00               0.00\n",
       "42          0.000000e+00               0.00\n",
       "43          0.000000e+00               0.00\n",
       "44          5.701804e-02               0.00\n",
       "45          0.000000e+00               0.00\n",
       "46          4.246687e-02               0.00\n",
       "47          0.000000e+00               0.00\n",
       "48          0.000000e+00               0.00\n",
       "49          1.159998e+00               1.16"
      ]
     },
     "execution_count": 103,
     "metadata": {},
     "output_type": "execute_result"
    }
   ],
   "source": [
    "predictions = result[['predicted_Tip_amount','Actual_Tip_amount']]\n",
    "predictions.head(50)"
   ]
  },
  {
   "cell_type": "markdown",
   "metadata": {},
   "source": [
    "## Solution for Question 5\n",
    "### Option A : Distributions"
   ]
  },
  {
   "cell_type": "markdown",
   "metadata": {},
   "source": [
    "#### Derivable variable for mean speed\n",
    "#### I've already derived speed variable on the feature engineering part and now I'm just describing important stats about that!\n"
   ]
  },
  {
   "cell_type": "code",
   "execution_count": 62,
   "metadata": {},
   "outputs": [
    {
     "data": {
      "text/plain": [
       "count    1.494926e+06\n",
       "mean     1.291291e+01\n",
       "std      7.000670e+00\n",
       "min      0.000000e+00\n",
       "25%      9.308707e+00\n",
       "50%      1.176238e+01\n",
       "75%      1.504964e+01\n",
       "max      2.400000e+02\n",
       "Name: Speed_mph, dtype: float64"
      ]
     },
     "execution_count": 62,
     "metadata": {},
     "output_type": "execute_result"
    }
   ],
   "source": [
    "greentrip_db['Speed_mph'].describe()"
   ]
  },
  {
   "cell_type": "markdown",
   "metadata": {},
   "source": [
    "### Visualisation of Average speed or time"
   ]
  },
  {
   "cell_type": "code",
   "execution_count": 63,
   "metadata": {
    "scrolled": true
   },
   "outputs": [
    {
     "data": {
      "image/png": "[encoded data removed]",
      "text/plain": [
       "<matplotlib.figure.Figure at 0x7f0aca6ed6a0>"
      ]
     },
     "metadata": {},
     "output_type": "display_data"
    }
   ],
   "source": [
    "greentrip_db['Speed_mph'].plot.hist(bins=500)\n",
    "plt.show()"
   ]
  },
  {
   "cell_type": "markdown",
   "metadata": {},
   "source": [
    "### Performing the test"
   ]
  },
  {
   "cell_type": "code",
   "execution_count": 64,
   "metadata": {},
   "outputs": [
    {
     "data": {
      "text/plain": [
       "2    364078\n",
       "3    360212\n",
       "4    339110\n",
       "1    299398\n",
       "5    132128\n",
       "Name: Week, dtype: int64"
      ]
     },
     "execution_count": 64,
     "metadata": {},
     "output_type": "execute_result"
    }
   ],
   "source": [
    "greentrip_db['Week'].value_counts()"
   ]
  },
  {
   "cell_type": "code",
   "execution_count": 65,
   "metadata": {
    "collapsed": true
   },
   "outputs": [],
   "source": [
    "week_1 = greentrip_db['Speed_mph'][greentrip_db['Week']==1].as_matrix()\n",
    "week_2 = greentrip_db['Speed_mph'][greentrip_db['Week']==2].as_matrix()\n",
    "week_3 = greentrip_db['Speed_mph'][greentrip_db['Week']==3].as_matrix()\n",
    "week_4 = greentrip_db['Speed_mph'][greentrip_db['Week']==4].as_matrix()\n",
    "week_5 = greentrip_db['Speed_mph'][greentrip_db['Week']==5].as_matrix()"
   ]
  },
  {
   "cell_type": "code",
   "execution_count": 66,
   "metadata": {},
   "outputs": [
    {
     "data": {
      "text/plain": [
       "F_onewayResult(statistic=720.58292843824279, pvalue=0.0)"
      ]
     },
     "execution_count": 66,
     "metadata": {},
     "output_type": "execute_result"
    }
   ],
   "source": [
    "stats.f_oneway(week_1,week_2, week_3,week_4, week_5)"
   ]
  },
  {
   "cell_type": "markdown",
   "metadata": {},
   "source": [
    "### The ANOVA test indicates the large f-value and small p value. so null hypothesis will get rejected and we states that differences are statistically significant so week number isn't related to the speed.\n",
    "#### Another interesting question is how the speed changes over the course of the day. In this case I use  one-way anova test on multiple samples. We find that the speed is different in different hours with a zero pvalue of the anova test.\n",
    "Now I'll calculate other statistical parameters like mean,median and std."
   ]
  },
  {
   "cell_type": "code",
   "execution_count": 67,
   "metadata": {},
   "outputs": [
    {
     "name": "stdout",
     "output_type": "stream",
     "text": [
      "13.3603828087 12.6907266109 12.6853896377 13.1619742087 12.4922080919\n"
     ]
    }
   ],
   "source": [
    "print(week_1.mean(),week_2.mean(),week_3.mean(),week_4.mean(),week_5.mean())"
   ]
  },
  {
   "cell_type": "code",
   "execution_count": 68,
   "metadata": {},
   "outputs": [
    {
     "name": "stdout",
     "output_type": "stream",
     "text": [
      "12.0848056537 11.575562701 11.5979381443 12.0 11.3940570756\n"
     ]
    }
   ],
   "source": [
    "print(statistics.median(week_1),statistics.median(week_2),statistics.median(week_3),statistics.median(week_4),\n",
    "      statistics.median(week_5))"
   ]
  },
  {
   "cell_type": "code",
   "execution_count": 69,
   "metadata": {},
   "outputs": [
    {
     "data": {
      "image/png": "[encoded data removed]",
      "text/plain": [
       "<matplotlib.figure.Figure at 0x7f0abe904f98>"
      ]
     },
     "metadata": {},
     "output_type": "display_data"
    }
   ],
   "source": [
    "plt.hist(week_1,bins = 50,label = 'week 1')\n",
    "plt.legend()\n",
    "plt.show()"
   ]
  },
  {
   "cell_type": "code",
   "execution_count": 70,
   "metadata": {},
   "outputs": [
    {
     "data": {
      "image/png": "[encoded data removed]",
      "text/plain": [
       "<matplotlib.figure.Figure at 0x7f0abdef1a58>"
      ]
     },
     "metadata": {},
     "output_type": "display_data"
    }
   ],
   "source": [
    "plt.hist(week_2,bins = 50,label = 'week 2')\n",
    "plt.legend()\n",
    "plt.show()"
   ]
  },
  {
   "cell_type": "code",
   "execution_count": 71,
   "metadata": {},
   "outputs": [
    {
     "data": {
      "image/png": "[encoded data removed]",
      "text/plain": [
       "<matplotlib.figure.Figure at 0x7f0abde78320>"
      ]
     },
     "metadata": {},
     "output_type": "display_data"
    }
   ],
   "source": [
    "plt.hist(week_3,bins = 50,label = 'week 3')\n",
    "plt.legend()\n",
    "plt.show()"
   ]
  },
  {
   "cell_type": "code",
   "execution_count": 72,
   "metadata": {},
   "outputs": [
    {
     "data": {
      "image/png": "[encoded data removed]",
      "text/plain": [
       "<matplotlib.figure.Figure at 0x7f0abde417b8>"
      ]
     },
     "metadata": {},
     "output_type": "display_data"
    }
   ],
   "source": [
    "plt.hist(week_4,bins = 50,label = 'week 4')\n",
    "plt.legend()\n",
    "plt.show()"
   ]
  },
  {
   "cell_type": "code",
   "execution_count": 73,
   "metadata": {},
   "outputs": [
    {
     "data": {
      "image/png": "[encoded data removed]",
      "text/plain": [
       "<matplotlib.figure.Figure at 0x7f0abdcb4208>"
      ]
     },
     "metadata": {},
     "output_type": "display_data"
    }
   ],
   "source": [
    "plt.hist(week_5,bins = 50,label = 'week 5')\n",
    "plt.legend()\n",
    "plt.show()"
   ]
  },
  {
   "cell_type": "code",
   "execution_count": 74,
   "metadata": {
    "collapsed": true
   },
   "outputs": [],
   "source": [
    "grouped = greentrip_db.groupby('Pickup_hour')\n",
    "samples = []\n",
    "\n",
    "for name,group in grouped:\n",
    "    samples.append(group['Speed_mph'])"
   ]
  },
  {
   "cell_type": "code",
   "execution_count": 75,
   "metadata": {},
   "outputs": [
    {
     "data": {
      "text/plain": [
       "F_onewayResult(statistic=3386.0111366052874, pvalue=0.0)"
      ]
     },
     "execution_count": 75,
     "metadata": {},
     "output_type": "execute_result"
    }
   ],
   "source": [
    "sample = samples\n",
    "stats.f_oneway(sample[0],sample[1],sample[2],sample[3], sample[4],sample[5],sample[6],sample[7],sample[8],sample[9],\n",
    "              sample[10],sample[11],sample[12],sample[13],sample[14],sample[15],sample[16],sample[17],sample[18],\n",
    "               sample[19],\n",
    "              sample[20],sample[21],sample[22],sample[23])"
   ]
  },
  {
   "cell_type": "markdown",
   "metadata": {},
   "source": [
    "### ANOVA test still gives the high F value and low p value and so we still reject the hypothesis and statistically significant difference between pickup hour and speed is there."
   ]
  },
  {
   "cell_type": "code",
   "execution_count": 76,
   "metadata": {},
   "outputs": [
    {
     "data": {
      "text/html": [
       "<div>\n",
       "<style>\n",
       "    .dataframe thead tr:only-child th {\n",
       "        text-align: right;\n",
       "    }\n",
       "\n",
       "    .dataframe thead th {\n",
       "        text-align: left;\n",
       "    }\n",
       "\n",
       "    .dataframe tbody tr th {\n",
       "        vertical-align: top;\n",
       "    }\n",
       "</style>\n",
       "<table border=\"1\" class=\"dataframe\">\n",
       "  <thead>\n",
       "    <tr style=\"text-align: right;\">\n",
       "      <th></th>\n",
       "      <th>Means</th>\n",
       "      <th>Medians</th>\n",
       "    </tr>\n",
       "  </thead>\n",
       "  <tbody>\n",
       "    <tr>\n",
       "      <th>0</th>\n",
       "      <td>14.623432</td>\n",
       "      <td>13.380663</td>\n",
       "    </tr>\n",
       "    <tr>\n",
       "      <th>1</th>\n",
       "      <td>14.898349</td>\n",
       "      <td>13.678855</td>\n",
       "    </tr>\n",
       "    <tr>\n",
       "      <th>2</th>\n",
       "      <td>15.046172</td>\n",
       "      <td>13.910240</td>\n",
       "    </tr>\n",
       "    <tr>\n",
       "      <th>3</th>\n",
       "      <td>15.430099</td>\n",
       "      <td>14.155175</td>\n",
       "    </tr>\n",
       "    <tr>\n",
       "      <th>4</th>\n",
       "      <td>16.284754</td>\n",
       "      <td>14.584419</td>\n",
       "    </tr>\n",
       "    <tr>\n",
       "      <th>5</th>\n",
       "      <td>18.041351</td>\n",
       "      <td>16.079075</td>\n",
       "    </tr>\n",
       "    <tr>\n",
       "      <th>6</th>\n",
       "      <td>17.074692</td>\n",
       "      <td>15.242718</td>\n",
       "    </tr>\n",
       "    <tr>\n",
       "      <th>7</th>\n",
       "      <td>13.556228</td>\n",
       "      <td>12.000000</td>\n",
       "    </tr>\n",
       "    <tr>\n",
       "      <th>8</th>\n",
       "      <td>12.333907</td>\n",
       "      <td>10.996016</td>\n",
       "    </tr>\n",
       "    <tr>\n",
       "      <th>9</th>\n",
       "      <td>12.644419</td>\n",
       "      <td>11.290909</td>\n",
       "    </tr>\n",
       "    <tr>\n",
       "      <th>10</th>\n",
       "      <td>12.569104</td>\n",
       "      <td>11.323210</td>\n",
       "    </tr>\n",
       "    <tr>\n",
       "      <th>11</th>\n",
       "      <td>12.256671</td>\n",
       "      <td>11.066748</td>\n",
       "    </tr>\n",
       "    <tr>\n",
       "      <th>12</th>\n",
       "      <td>12.157952</td>\n",
       "      <td>10.987013</td>\n",
       "    </tr>\n",
       "    <tr>\n",
       "      <th>13</th>\n",
       "      <td>12.069115</td>\n",
       "      <td>10.922942</td>\n",
       "    </tr>\n",
       "    <tr>\n",
       "      <th>14</th>\n",
       "      <td>11.568594</td>\n",
       "      <td>10.538578</td>\n",
       "    </tr>\n",
       "    <tr>\n",
       "      <th>15</th>\n",
       "      <td>11.219868</td>\n",
       "      <td>10.281818</td>\n",
       "    </tr>\n",
       "    <tr>\n",
       "      <th>16</th>\n",
       "      <td>10.995332</td>\n",
       "      <td>10.136933</td>\n",
       "    </tr>\n",
       "    <tr>\n",
       "      <th>17</th>\n",
       "      <td>10.958627</td>\n",
       "      <td>10.200000</td>\n",
       "    </tr>\n",
       "    <tr>\n",
       "      <th>18</th>\n",
       "      <td>11.528702</td>\n",
       "      <td>10.723404</td>\n",
       "    </tr>\n",
       "    <tr>\n",
       "      <th>19</th>\n",
       "      <td>12.081685</td>\n",
       "      <td>11.204819</td>\n",
       "    </tr>\n",
       "    <tr>\n",
       "      <th>20</th>\n",
       "      <td>12.767942</td>\n",
       "      <td>11.793103</td>\n",
       "    </tr>\n",
       "    <tr>\n",
       "      <th>21</th>\n",
       "      <td>13.632155</td>\n",
       "      <td>12.457766</td>\n",
       "    </tr>\n",
       "    <tr>\n",
       "      <th>22</th>\n",
       "      <td>14.098393</td>\n",
       "      <td>12.897549</td>\n",
       "    </tr>\n",
       "    <tr>\n",
       "      <th>23</th>\n",
       "      <td>14.392762</td>\n",
       "      <td>13.170732</td>\n",
       "    </tr>\n",
       "  </tbody>\n",
       "</table>\n",
       "</div>"
      ],
      "text/plain": [
       "        Means    Medians\n",
       "0   14.623432  13.380663\n",
       "1   14.898349  13.678855\n",
       "2   15.046172  13.910240\n",
       "3   15.430099  14.155175\n",
       "4   16.284754  14.584419\n",
       "5   18.041351  16.079075\n",
       "6   17.074692  15.242718\n",
       "7   13.556228  12.000000\n",
       "8   12.333907  10.996016\n",
       "9   12.644419  11.290909\n",
       "10  12.569104  11.323210\n",
       "11  12.256671  11.066748\n",
       "12  12.157952  10.987013\n",
       "13  12.069115  10.922942\n",
       "14  11.568594  10.538578\n",
       "15  11.219868  10.281818\n",
       "16  10.995332  10.136933\n",
       "17  10.958627  10.200000\n",
       "18  11.528702  10.723404\n",
       "19  12.081685  11.204819\n",
       "20  12.767942  11.793103\n",
       "21  13.632155  12.457766\n",
       "22  14.098393  12.897549\n",
       "23  14.392762  13.170732"
      ]
     },
     "execution_count": 76,
     "metadata": {},
     "output_type": "execute_result"
    }
   ],
   "source": [
    "means = []\n",
    "medians = []\n",
    "for hour in range(24):\n",
    "    means.append(statistics.mean(sample[hour]))\n",
    "    #print('Mean:',statistics.mean(sample[hour]))\n",
    "    medians.append(statistics.median(sample[hour]))\n",
    "    #print('Median:',statistics.median(sample[hour]))\n",
    "\n",
    "statis = pd.DataFrame(list(zip(means,medians)),columns=['Means','Medians'])\n",
    "statis"
   ]
  },
  {
   "cell_type": "markdown",
   "metadata": {},
   "source": [
    "### Let's understand more on test by plotting the Bar chart of average speed of a ride at hour"
   ]
  },
  {
   "cell_type": "code",
   "execution_count": 77,
   "metadata": {
    "scrolled": false
   },
   "outputs": [
    {
     "data": {
      "image/png": "[encoded data removed]",
      "text/plain": [
       "<matplotlib.figure.Figure at 0x7f0abdd23f60>"
      ]
     },
     "metadata": {},
     "output_type": "display_data"
    }
   ],
   "source": [
    "plt.rcParams[\"figure.figsize\"] = [12,9]\n",
    "index = np.arange(24)\n",
    "bar_width = 0.35\n",
    "opacity = 0.4\n",
    "error_config = {'ecolor': '0.3'}\n",
    "\n",
    "rects1 = plt.bar(index, means, bar_width,\n",
    "                 alpha=opacity,\n",
    "                 color='b',\n",
    "                 error_kw=error_config,\n",
    "                 label='Average speed of a ride at the hour')\n",
    "plt.legend()\n",
    "plt.show()"
   ]
  },
  {
   "cell_type": "markdown",
   "metadata": {},
   "source": [
    "### Things I tried but I failed,\n",
    "                  - I tried to visualize the borough traffic and NYC people's behavior but I coudn't\n",
    "                  - I tried to Implement time series analysis for anomaly detection, for this I learned some of the analysis part but couldn't complete it."
   ]
  },
  {
   "cell_type": "markdown",
   "metadata": {},
   "source": [
    "### References,\n",
    "                 - for data attributes : http://www.nyc.gov/html/tlc/html/about/trip_record_data.shtml\n",
    "                 - for Random Forest Regressor http://www.bios.unc.edu/~dzeng/BIOS740/randomforest.pdf\n",
    "                 - for tabulate https://pypi.python.org/pypi/tabulate\n",
    "                 - http://scikit-learn.org/stable/modules/generated/sklearn.ensemble.RandomForestRegressor.html"
   ]
  },
  {
   "cell_type": "markdown",
   "metadata": {},
   "source": [
    "### Recommendations\n",
    "\n",
    "- As a future work,I would use the other algorithms and compare those with the each and every one. The best way to achieve the optimization. My Model is still not optimized so I'll try to work on this for making better predictions using multivariate analysis.\n",
    "\n",
    "- Moreover,I tried using Plotly for plotting interactive plots but i coudn't. The Notebook got crashed and it's not working due to less computation power."
   ]
  },
  {
   "cell_type": "markdown",
   "metadata": {},
   "source": [
    "### Personal comment: I enjoyed this Data challenge a lot. It was fun to working on real world dataset. I hope i answered the questions. I tried to make it more simpler. I did more on Data cleaning and feature engineering because it was necessary to answer the questions accurately and precisely."
   ]
  }
 ],
 "metadata": {
  "kernelspec": {
   "display_name": "Python 3",
   "language": "python",
   "name": "python3"
  },
  "language_info": {
   "codemirror_mode": {
    "name": "ipython",
    "version": 3
   },
   "file_extension": ".py",
   "mimetype": "text/x-python",
   "name": "python",
   "nbconvert_exporter": "python",
   "pygments_lexer": "ipython3",
   "version": "3.6.2"
  }
 },
 "nbformat": 4,
 "nbformat_minor": 2
}
